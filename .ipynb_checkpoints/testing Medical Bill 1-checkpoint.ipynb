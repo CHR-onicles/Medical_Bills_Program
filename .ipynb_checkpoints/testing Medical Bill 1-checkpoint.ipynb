{
 "cells": [
  {
   "cell_type": "code",
   "execution_count": 1,
   "metadata": {},
   "outputs": [],
   "source": [
    "import os\n",
    "import openpyxl\n",
    "from openpyxl.styles import colors,PatternFill\n",
    "from icecream import ic"
   ]
  },
  {
   "cell_type": "code",
   "execution_count": null,
   "metadata": {},
   "outputs": [],
   "source": [
    "# TODO:\n",
    "\n",
    "# Add validation to cells in code (possibly later)\n",
    "# Add statistics of 'slots' in code(total name slots, occupied, available)"
   ]
  },
  {
   "cell_type": "code",
   "execution_count": 2,
   "metadata": {},
   "outputs": [],
   "source": [
    "os.chdir('B:/Desktop/med bills test/')"
   ]
  },
  {
   "cell_type": "code",
   "execution_count": 3,
   "metadata": {},
   "outputs": [
    {
     "data": {
      "text/plain": [
       "'B:\\\\Desktop\\\\med bills test'"
      ]
     },
     "execution_count": 3,
     "metadata": {},
     "output_type": "execute_result"
    }
   ],
   "source": [
    "os.getcwd()"
   ]
  },
  {
   "cell_type": "code",
   "execution_count": 4,
   "metadata": {},
   "outputs": [
    {
     "data": {
      "text/plain": [
       "['MEDICAL BILL 2020.xlsx',\n",
       " 'STAFF_Dependant LIST 2020.xlsx',\n",
       " 'staff_list_trial.xlsx',\n",
       " 'trial1.xlsx']"
      ]
     },
     "execution_count": 4,
     "metadata": {},
     "output_type": "execute_result"
    }
   ],
   "source": [
    "os.listdir()"
   ]
  },
  {
   "cell_type": "code",
   "execution_count": null,
   "metadata": {},
   "outputs": [],
   "source": [
    "Colors = colors.COLOR_INDEX"
   ]
  },
  {
   "cell_type": "code",
   "execution_count": null,
   "metadata": {},
   "outputs": [],
   "source": [
    "# Colors"
   ]
  },
  {
   "cell_type": "code",
   "execution_count": null,
   "metadata": {},
   "outputs": [],
   "source": [
    "wb = openpyxl.load_workbook('MEDICAL BILL 2020.xlsx')"
   ]
  },
  {
   "cell_type": "code",
   "execution_count": null,
   "metadata": {
    "scrolled": false
   },
   "outputs": [],
   "source": [
    "# loop for Names and Number of Staff in Staff Names Column\n",
    "\n",
    "wb = openpyxl.load_workbook('trial1.xlsx')\n",
    "sheet = wb['KITCHEN M B']\n",
    "slot_counter = 0\n",
    "\n",
    "for i in range(1,500):\n",
    "    cell = sheet.cell(row=i, column=1)\n",
    "    if cell.fill.start_color.index == 'FFD8D8D8' \\\n",
    "    and cell.font.b == True:                       # check for gray cell and bold font\n",
    "        print(cell.value)\n",
    "        slot_counter += 1\n",
    "        \n",
    "print(f'\\nThere are {slot_counter} slots in {sheet.title}')"
   ]
  },
  {
   "cell_type": "code",
   "execution_count": null,
   "metadata": {},
   "outputs": [],
   "source": []
  },
  {
   "cell_type": "code",
   "execution_count": 7,
   "metadata": {
    "scrolled": true
   },
   "outputs": [
    {
     "name": "stdout",
     "output_type": "stream",
     "text": [
      "Number of Staff minus casuals: 217\n",
      "\n",
      "1 Abena Antwiwaa Adom | SPA M B\n",
      "2 Abigail Abutiate | ADMINISTRATION M B\n",
      "3 Abigail Armah | ACCOUNTS M B\n",
      "4 Abigail Mensa | F&B M B\n",
      "5 Abraham Ashitey | MAINTENANCE M B\n",
      "6 Abraham Donkor | HOUSEKEEPING M B\n",
      "7 Abraham Mensah | F&B M B\n",
      "8 Agnes  Nai | SPA M B\n",
      "9 Akwasi Acheampong | SECURITY M B\n",
      "10 Akwetey Ahingwah | KITCHEN M B\n",
      "11 Albert Larbi | SECURITY M B\n",
      "12 Alex Odoom | ACCOUNTS M B\n",
      "13 Alfred O. Agyepong | ACCOUNTS M B\n",
      "14 Alhaji Abdallah Seidu | MAINTENANCE M B\n",
      "15 Anane Tsagli | ACCOUNTS M B\n",
      "16 Anani Tsagli | STORES M B\n",
      "17 Angela Akuffo | KITCHEN M B\n",
      "18 Angela Megbenu | KITCHEN M B\n",
      "19 Annabel Asamoah Menyisse | HOUSEKEEPING M B\n",
      "20 Anne Rita Solano | GUESTS M B\n",
      "21 Anthony Senade | LAUNDRY M B\n",
      "22 Ashitey Trebie | LAUNDRY M B\n",
      "23 Atta Osei Buabeng | ACCOUNTS M B\n",
      "24 Bashiru Abdallah | HOUSE DEPT M B\n",
      "25 Belinda Kpordze | HOUSEKEEPING M B\n",
      "26 Benedicta Larbi | KITCHEN M B\n",
      "27 Bernard Ahelegbeh | MAINTENANCE M B\n",
      "28 Bernard Appah Wiafe | GUESTS M B\n",
      "29 Bob Ndar | GUESTS M B\n",
      "30 Caroline Armah | HOUSEKEEPING M B\n",
      "31 Caroline Larsey | KITCHEN M B\n",
      "32 Cassandra  M Cubagee | KITCHEN M B\n",
      "33 Catherine Dadzie-Mensah | SPA M B\n",
      "34 Catherine Hannah-Ricketts | GUESTS M B\n",
      "35 Cecilia Kegay | KITCHEN M B\n",
      "36 Cecilia Tagoe | F&B M B\n",
      "37 Charity Comieter | KITCHEN M B\n",
      "38 Charles Bosomtwi Dugan | SECURITY M B\n",
      "39 Charles Momor Tetteh | KITCHEN M B\n",
      "40 Charles O. Yeboah | SECURITY M B\n",
      "41 Christine Agbanu | KITCHEN M B\n",
      "42 Christopher Kansis     | KITCHEN M B\n",
      "43 Clement Atiadze | HOUSE DEPT M B\n",
      "44 Clement Yaw Micah | SECURITY M B\n",
      "45 Colbert Adjei Ashong | SECURITY M B\n",
      "46 Cynthia Ahia | HOUSEKEEPING M B\n",
      "47 Daniel Amoah | KITCHEN M B\n",
      "48 Daniel Laryea | F&B M B\n",
      "49 Daniel Tetteh | F&B M B\n",
      "50 Darryl O. Schandorf | F&B M B\n",
      "51 David Eduaful | SALES M B\n",
      "52 David Gagakumah | F&B M B\n",
      "53 David Maama Botchway | HOUSEKEEPING M B\n",
      "54 Desmond O. Kpokli-Tswasam | MAINTENANCE M B\n",
      "55 Dickson Agbodza | MAINTENANCE M B\n",
      "56 Dominic La-Aoni | F&B M B\n",
      "57 Dora Annobil | SPA M B\n",
      "58 Dorcas Owusu | ACCOUNTS M B\n",
      "59 Doris Agbovi | HOUSEKEEPING M B\n",
      "60 Douglas Asiedu | ACCOUNTS M B\n",
      "61 Ebenezer Nii Nai Larsey | KITCHEN M B\n",
      "62 Ekua Zara Ghartey | F&B M B\n",
      "63 Elvis Clifford Hesse | SECURITY M B\n",
      "64 Emmanuel Aferdi | LAUNDRY M B\n",
      "65 Emmanuel Animley | ACCOUNTS M B\n",
      "66 Emmanuel Appiah | SECURITY M B\n",
      "67 Emmanuel Asare Sakyi | STORES M B\n",
      "68 Emmanuel Dartey | HOUSE DEPT M B\n",
      "69 Emmanuel Larbi | HOUSE DEPT M B\n",
      "70 Emmanuel Martei Korley | MAINTENANCE M B\n",
      "71 Eric Adjetey | F&B M B\n",
      "72 Eric Dery Tienuku | HOUSE DEPT M B\n",
      "73 Eric Odartey Nelson | ACCOUNTS M B\n",
      "74 Ernest Apenteng | SECURITY M B\n",
      "75 Ernest Kaguah | ACCOUNTS M B\n",
      "76 Esi Bharati Kinnah | HOUSE DEPT M B\n",
      "77 Esther Nsiah | KITCHEN M B\n",
      "78 Eunice Kpor | HOUSE DEPT M B\n",
      "79 Eunice Mensah | HOUSE DEPT M B\n",
      "80 Evans Adzaho | MAINTENANCE M B\n",
      "81 Evelyn Adjetey | KITCHEN M B\n",
      "82 Evelyn Amoah | HOUSE DEPT M B\n",
      "83 Faustina Akoi-Larbi | KITCHEN M B\n",
      "84 Faustina Quarm | HOUSEKEEPING M B\n",
      "85 Festus Twumasi Ankrah | ACCOUNTS M B\n",
      "86 Florence Bannor | HOUSE DEPT M B\n",
      "87 Frances Fynn | HOUSEKEEPING M B\n",
      "88 Francis Dogbey | F&B M B\n",
      "89 Frank Ashitey | MAINTENANCE M B\n",
      "90 Franklin Dowuona | F&B M B\n",
      "91 Fraser Yao Fiagbadu | MAINTENANCE M B\n",
      "92 Fred Opoku | MAINTENANCE M B\n",
      "93 Freda Odonkor | HOUSEKEEPING M B\n",
      "94 Gary Lane | KITCHEN M B\n",
      "95 George Ayisi | SALES M B\n",
      "96 George Brobbey | ACCOUNTS M B\n",
      "97 George Nyarko | KITCHEN M B\n",
      "98 Gertrude Lokko | F&B M B\n",
      "99 Gifty Fiadjoe | HOUSE DEPT M B\n",
      "100 Gloria Orleans Mends | ADMINISTRATION M B\n",
      "101 Godfred Gyebi | STORES M B\n",
      "102 Grace Afrah | HOUSEKEEPING M B\n",
      "103 Happy Agbati | HOUSEKEEPING M B\n",
      "104 Hosea Liverpool | F&B M B\n",
      "105 Ibrahim Abdallah | ACCOUNTS M B\n",
      "106 Irene Abaah | KITCHEN M B\n",
      "107 Irene Ofori-Teiko | HOUSE DEPT M B\n",
      "108 Isaac Aboagye-Okyere | KITCHEN M B\n",
      "109 Isaac Ashie Amon | LAUNDRY M B\n",
      "110 Isaac Nii Amon Neequaye | HOUSE DEPT M B\n",
      "111 Isaac Yaw Mensah | HOUSEKEEPING M B\n",
      "112 Ishmael Dodoo | F&B M B\n",
      "113 Ivy Amoh | KITCHEN M B\n",
      "114 Jacob T. Lartey | HOUSEKEEPING M B\n",
      "115 Jacqueline Oduro | SPA M B\n",
      "116 James Brown Nkudede | SECURITY M B\n",
      "117 James Kanzoni | HOUSE DEPT M B\n",
      "118 Jane De-Heer | FOREX M B\n",
      "119 Janet Anim | KITCHEN M B\n",
      "120 Jessica Jochebed Mante | KITCHEN M B\n",
      "121 Joana Nyarko | KITCHEN M B\n",
      "122 John Ablorh Anum | LAUNDRY M B\n",
      "123 John Amoah | HOUSE DEPT M B\n",
      "124 Jonathan Coffie | KITCHEN M B\n",
      "125 Jonathan Dedzoh | HOUSE DEPT M B\n",
      "126 Joseph Adjetey | MAINTENANCE M B\n",
      "127 Joseph Dodoo | LAUNDRY M B\n",
      "128 Joseph Martey Laryea | LAUNDRY M B\n",
      "129 Josephine Asumang | KITCHEN M B\n",
      "130 Josephine Ewusie | F&B M B\n",
      "131 Joyce Agbemadzi | HOUSEKEEPING M B\n",
      "132 Julius Lartey | HOUSE DEPT M B\n",
      "133 Kennedy Amoako Boakye | SECURITY M B\n",
      "134 Kennedy Kidiiga | F&B M B\n",
      "135 Kenneth Apasu | SALES M B\n",
      "136 Killian Afedoh | LAUNDRY M B\n",
      "137 Kimanzi Chris | GUESTS M B\n",
      "138 Linda Pokoo Aikins | F&B M B\n",
      "139 Lorna Orina | GUESTS M B\n",
      "140 Lorrinda Quarshie | HOUSEKEEPING M B\n",
      "141 Lydia Oninku | KITCHEN M B\n",
      "142 Mabel Adumang | KITCHEN M B\n",
      "143 Martha Kwatiah | LAUNDRY M B\n",
      "144 Martin Asimeng | STORES M B\n",
      "145 Martin Osei Ntim | HOUSE DEPT M B\n",
      "146 Mary Nyadu | HOUSEKEEPING M B\n",
      "147 Mavis Adutwumwaa Opoku | F&B M B\n",
      "148 Mercy Annang Agyepong | KITCHEN M B\n",
      "149 Mercy Beeko | F&B M B\n",
      "150 Michael Annang | SECURITY M B\n",
      "151 Michael Awuah | KITCHEN M B\n",
      "152 Michael Kodzo-Gbor | KITCHEN M B\n",
      "153 Michael Kwabena Oppong | F&B M B\n",
      "154 Millicent Danquah | HOUSEKEEPING M B\n",
      "155 Moses Ashirifie Quashie | F&B M B\n",
      "156 Moses Mensah Larsey | LAUNDRY M B\n",
      "157 Nana Yaw Ampofo | ACCOUNTS M B\n",
      "158 Nana Yaw Obuobi | SECURITY M B\n",
      "159 Naomi Ashitey Amarh | KITCHEN M B\n",
      "160 Nathaniel Yaw Kwofie | STORES M B\n",
      "161 Olivia Tetteh Bimpeh | ADMINISTRATION M B\n",
      "162 Patience Aidoo | SALES M B\n",
      "163 Patricia Agbenowosi | HOUSE DEPT M B\n",
      "164 Patricia Armah | KITCHEN M B\n",
      "165 Paul Adzaho | MAINTENANCE M B\n",
      "166 Paul Katernor | SECURITY M B\n",
      "167 Paul Yevugah | MAINTENANCE M B\n",
      "168 Perry S. Abrokwah | HOUSE DEPT M B\n",
      "169 Peter Appah | HOUSE DEPT M B\n",
      "170 Philip Adu-Mensah | HOUSE DEPT M B\n",
      "171 Phoebe Odoom | SALES M B\n",
      "172 Priscilla Anang | ADMINISTRATION M B\n",
      "173 Prosper Assan | MAINTENANCE M B\n",
      "174 Prudence Attipoe | KITCHEN M B\n",
      "175 Rampson Agbenyo | F&B M B\n",
      "176 Regina Mensah | KITCHEN M B\n",
      "177 Regina Oblim | KITCHEN M B\n",
      "178 Regina Quaye | HOUSEKEEPING M B\n",
      "179 Rene Vincent-Ernst | ADMINISTRATION M B\n",
      "180 Richard Dzidzornu | ACCOUNTS M B\n",
      "181 Richard Mintah | KITCHEN M B\n",
      "182 Richard Tawiah | ACCOUNTS M B\n",
      "183 Richard Tetteh | KITCHEN M B\n",
      "184 Richmond Adjetey Adjei | SECURITY M B\n",
      "185 Robert Nketia Mensah | KITCHEN M B\n",
      "186 Robert Sowah Nai | MAINTENANCE M B\n",
      "187 Rockson Duho | SECURITY M B\n",
      "188 Rominus Amoah | HOUSEKEEPING M B\n",
      "189 Salomey Adoley Pappoe | HOUSEKEEPING M B\n",
      "190 Salomey Nortey | F&B M B\n",
      "191 Sampson Awumi | KITCHEN M B\n",
      "192 Samuel Abeka Gogo | KITCHEN M B\n",
      "193 Samuel Lamptey | MAINTENANCE M B\n",
      "194 Samuel Lamtey | KITCHEN M B\n",
      "195 Samuel Obeng Saforo | F&B M B\n",
      "196 Samuel Ohene Darko | ACCOUNTS M B\n",
      "197 Samuel Opuni Mensah | F&B M B\n",
      "198 Samuel Yeboah | LAUNDRY M B\n",
      "199 Simon Azumah Martey Korley | KITCHEN M B\n",
      "200 Solomon Aidoo | LAUNDRY M B\n",
      "201 Solomon Annang | HOUSE DEPT M B\n",
      "202 Solomon Doku | STORES M B\n",
      "203 Sulemana Abdul-Rashid | SECURITY M B\n",
      "204 Susana Setsoafia | ADMINISTRATION M B\n",
      "205 Thelma Quayegah | HOUSE DEPT M B\n",
      "206 Theodora Allotey | F&B M B\n",
      "207 Theresa Adzaho Sowah | HOUSE DEPT M B\n",
      "208 Thomas Aikins | F&B M B\n",
      "209 Valentine Aleh | KITCHEN M B\n",
      "210 Victor B. Glantey | HOUSE DEPT M B\n",
      "211 Vincent Kotey | ACCOUNTS M B\n",
      "212 Vincent M. Nyawuame | KITCHEN M B\n",
      "213 Vinolia Agbezuge | LAUNDRY M B\n",
      "214 William Ahinakwa | HOUSE DEPT M B\n",
      "215 William Ametepe | SECURITY M B\n",
      "216 William Okyere | ACCOUNTS M B\n",
      "217 Yaw Asamoah | MAINTENANCE M B\n"
     ]
    }
   ],
   "source": [
    "# Loop for Total Number of Staff and Names minus Casuals\n",
    "\n",
    "wb = openpyxl.load_workbook('MEDICAL BILL 2020.xlsx')\n",
    "# print(wb.sheetnames)\n",
    "staff = []\n",
    "\n",
    "for ws in wb.sheetnames:\n",
    "    if 'CASUALS' not in wb[ws].title:\n",
    "#         ic(wb[ws].title)\n",
    "        for col in wb[ws].iter_cols(min_row=1, max_row=700, min_col=1, max_col=1):\n",
    "            for cell in col:\n",
    "                if cell.fill.start_color.index == 'FFD8D8D8' and cell.font.b == True \\\n",
    "                and cell.value != 0:  # check for gray color, bold font, and whether cell is filled (empty cells contain '0')\n",
    "                    staff.append(cell.value + ' | ' + wb[ws].title)  \n",
    "            \n",
    "print(f'Number of Staff minus casuals: {len(staff)}\\n')\n",
    "\n",
    "staff.sort()\n",
    "for c, sf in enumerate(staff):\n",
    "    print(c+1, sf)\n",
    "    \n",
    "staff_med_bills = set()\n",
    "for item in staff:\n",
    "    staff_med_bills.add(item.lower())\n",
    "# len(staff_med_bills)\n",
    "# print(staff_med_bills)"
   ]
  },
  {
   "cell_type": "code",
   "execution_count": null,
   "metadata": {},
   "outputs": [],
   "source": []
  },
  {
   "cell_type": "code",
   "execution_count": null,
   "metadata": {},
   "outputs": [],
   "source": [
    "# Loop to fill all empty staff name cells with zero\n",
    "\n",
    "wb = openpyxl.load_workbook('MEDICAL BILL 2020.xlsx')\n",
    "change_counter = 0\n",
    "\n",
    "for ws in wb.sheetnames:\n",
    "    for col in wb[ws].iter_cols(min_row=1, max_row=600, min_col=1, max_col=1):\n",
    "        for cell in col:\n",
    "            if cell.fill.start_color.index == 'FFD8D8D8' \\\n",
    "            and cell.value == None:  # check for gray color and empty cell\n",
    "                cell.value = 0\n",
    "                change_counter += 1\n",
    "\n",
    "print(f'{change_counter} instances changed.')\n",
    "wb.save('trial1.xlsx')"
   ]
  },
  {
   "cell_type": "code",
   "execution_count": null,
   "metadata": {},
   "outputs": [],
   "source": []
  },
  {
   "cell_type": "code",
   "execution_count": null,
   "metadata": {},
   "outputs": [],
   "source": []
  },
  {
   "cell_type": "code",
   "execution_count": 5,
   "metadata": {},
   "outputs": [
    {
     "name": "stdout",
     "output_type": "stream",
     "text": [
      "Done reseting all values in ACCOUNTS M B\n",
      "Done reseting all values in ADMINISTRATION M B\n",
      "Done reseting all values in CASUALS M B\n",
      "Done reseting all values in F&B M B\n",
      "Done reseting all values in FOREX M B\n",
      "Done reseting all values in GUESTS M B\n",
      "Done reseting all values in HOUSE DEPT M B\n",
      "Done reseting all values in HOUSEKEEPING M B\n",
      "Done reseting all values in KITCHEN M B\n",
      "Done reseting all values in LAUNDRY M B\n",
      "Done reseting all values in MAINTENANCE M B\n",
      "Done reseting all values in SALES M B\n",
      "Done reseting all values in SECURITY M B\n",
      "Done reseting all values in SPA M B\n",
      "Done reseting all values in STORES M B\n",
      "New spreadsheet saved!\n"
     ]
    }
   ],
   "source": [
    "# Loop to reset all entries to zero [FOR NEW MED BILLS FILE]\n",
    "\n",
    "wb = openpyxl.load_workbook('MEDICAL BILL 2020.xlsx')\n",
    "\n",
    "for ws in wb.sheetnames:\n",
    "    for rows in wb[ws].iter_rows(min_row=4, max_row=600, min_col=3, max_col=14):  # iterating through amount cells\n",
    "        for cells in rows:\n",
    "            if cells.fill.start_color.index == 'FFD99594' \\\n",
    "            and cells.font.b == False:  # check for red colour and no bold font\n",
    "                cells.value = 0\n",
    "    print(f'Done reseting all values in {wb[ws].title}')\n",
    "wb.save('fresh med bills.xlsx')\n",
    "print('New spreadsheet saved!')"
   ]
  },
  {
   "cell_type": "code",
   "execution_count": null,
   "metadata": {},
   "outputs": [],
   "source": []
  },
  {
   "cell_type": "code",
   "execution_count": null,
   "metadata": {},
   "outputs": [],
   "source": [
    "wb = openpyxl.load_workbook('trial1.xlsx')\n",
    "ws = wb['ACCOUNTS M B']"
   ]
  },
  {
   "cell_type": "code",
   "execution_count": null,
   "metadata": {},
   "outputs": [],
   "source": [
    "print(type(ws['I14'].value))\n",
    "print(ws['I14'].value)"
   ]
  },
  {
   "cell_type": "code",
   "execution_count": null,
   "metadata": {},
   "outputs": [],
   "source": [
    "print(type(ws['I4'].value))\n",
    "print(ws['I4'].value)  # ZEROS IN WORKSHEETS ARE integers"
   ]
  },
  {
   "cell_type": "code",
   "execution_count": null,
   "metadata": {},
   "outputs": [],
   "source": []
  },
  {
   "cell_type": "markdown",
   "metadata": {},
   "source": [
    "<hr>"
   ]
  },
  {
   "cell_type": "code",
   "execution_count": null,
   "metadata": {},
   "outputs": [],
   "source": [
    "# TODO: Cross check MED BILLS names with Staff List exempting Casual Department"
   ]
  },
  {
   "cell_type": "code",
   "execution_count": null,
   "metadata": {
    "scrolled": true
   },
   "outputs": [],
   "source": [
    "# Extracting all staff names from Staff List\n",
    "\n",
    "wb = openpyxl.load_workbook('staff_list_trial.xlsx')\n",
    "sheet = wb['2020 STAFF LIST']\n",
    "staff_list = []\n",
    "\n",
    "for col in sheet.iter_cols(min_row=1, max_row=1000, min_col=1, max_col=1):\n",
    "    for cell in col:\n",
    "        if cell.value != None and cell.font.b is True and cell.font.i is False:\n",
    "            print(cell.value)\n",
    "            staff_list.append(cell.value)\n",
    "\n",
    "print(f'Number of staff in Staff List: {len(staff_list)}')\n",
    "\n",
    "staff_from_stafflist = set()\n",
    "for item in staff_list:\n",
    "    staff_from_stafflist.add(item.lower())\n",
    "\n",
    "# print(len(staff_from_stafflist))\n"
   ]
  },
  {
   "cell_type": "code",
   "execution_count": null,
   "metadata": {},
   "outputs": [],
   "source": [
    "diff = list(staff_med_bills.difference(staff_from_stafflist))\n",
    "print('Number of Staff in medical bills but not in Staff List: ' + str(len(staff_med_bills.difference(staff_from_stafflist)))+'\\n')\n",
    "\n",
    "diff.sort()\n",
    "for item in diff:\n",
    "    print(item.title())"
   ]
  },
  {
   "cell_type": "code",
   "execution_count": null,
   "metadata": {},
   "outputs": [],
   "source": []
  }
 ],
 "metadata": {
  "kernelspec": {
   "display_name": "Python 3",
   "language": "python",
   "name": "python3"
  },
  "language_info": {
   "codemirror_mode": {
    "name": "ipython",
    "version": 3
   },
   "file_extension": ".py",
   "mimetype": "text/x-python",
   "name": "python",
   "nbconvert_exporter": "python",
   "pygments_lexer": "ipython3",
   "version": "3.8.3"
  }
 },
 "nbformat": 4,
 "nbformat_minor": 4
}
