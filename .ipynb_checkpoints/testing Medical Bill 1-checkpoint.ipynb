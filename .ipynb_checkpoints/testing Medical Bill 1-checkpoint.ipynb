{
 "cells": [
  {
   "cell_type": "code",
   "execution_count": 1,
   "metadata": {
    "scrolled": true
   },
   "outputs": [],
   "source": [
    "import os\n",
    "import openpyxl\n",
    "from openpyxl.styles import colors,PatternFill\n",
    "from icecream import ic"
   ]
  },
  {
   "cell_type": "code",
   "execution_count": null,
   "metadata": {
    "scrolled": true
   },
   "outputs": [],
   "source": [
    "# TODO:\n",
    "\n",
    "# Add validation to cells in code (possibly later)\n",
    "# Add statistics of 'slots' in code(total name slots, occupied, available)"
   ]
  },
  {
   "cell_type": "code",
   "execution_count": 2,
   "metadata": {
    "scrolled": true
   },
   "outputs": [],
   "source": [
    "os.chdir('B:/Desktop/med bills test/')"
   ]
  },
  {
   "cell_type": "code",
   "execution_count": 3,
   "metadata": {
    "scrolled": true
   },
   "outputs": [
    {
     "data": {
      "text/plain": [
       "'B:\\\\Desktop\\\\med bills test'"
      ]
     },
     "execution_count": 3,
     "metadata": {},
     "output_type": "execute_result"
    }
   ],
   "source": [
    "os.getcwd()"
   ]
  },
  {
   "cell_type": "code",
   "execution_count": 4,
   "metadata": {
    "scrolled": true
   },
   "outputs": [
    {
     "data": {
      "text/plain": [
       "['emptytrial1.xlsx',\n",
       " 'test_med_bills_20.xlsx',\n",
       " 'test_staff_list.xlsx',\n",
       " '~$test_med_bills_20.xlsx']"
      ]
     },
     "execution_count": 4,
     "metadata": {},
     "output_type": "execute_result"
    }
   ],
   "source": [
    "os.listdir()"
   ]
  },
  {
   "cell_type": "code",
   "execution_count": null,
   "metadata": {
    "scrolled": true
   },
   "outputs": [],
   "source": [
    "Colors = colors.COLOR_INDEX"
   ]
  },
  {
   "cell_type": "code",
   "execution_count": null,
   "metadata": {
    "scrolled": true
   },
   "outputs": [],
   "source": [
    "# Colors"
   ]
  },
  {
   "cell_type": "code",
   "execution_count": null,
   "metadata": {
    "scrolled": true
   },
   "outputs": [],
   "source": [
    "wb = openpyxl.load_workbook('MEDICAL BILLS 2020.xlsx')\n",
    "wb.sheetnames"
   ]
  },
  {
   "cell_type": "markdown",
   "metadata": {},
   "source": [
    "<H1> MED BILLS FUNCTIONS\n",
    "</H1>"
   ]
  },
  {
   "cell_type": "code",
   "execution_count": null,
   "metadata": {
    "scrolled": true
   },
   "outputs": [],
   "source": [
    "# loop for Names and Number of Staff in Staff Names Column for specific sheets\n",
    "\n",
    "wb = openpyxl.load_workbook('trial1.xlsx')\n",
    "sheet = wb['KITCHEN M B']\n",
    "slot_counter = 0\n",
    "\n",
    "for i in range(1,500):\n",
    "    cell = sheet.cell(row=i, column=1)\n",
    "    if cell.fill.start_color.index == 'FFD8D8D8' \\\n",
    "    and cell.font.b == True:                       # check for gray cell and bold font\n",
    "        print(cell.value)\n",
    "        slot_counter += 1\n",
    "        \n",
    "print(f'\\nThere are {slot_counter} slots in {sheet.title}')"
   ]
  },
  {
   "cell_type": "code",
   "execution_count": null,
   "metadata": {},
   "outputs": [],
   "source": []
  },
  {
   "cell_type": "code",
   "execution_count": null,
   "metadata": {},
   "outputs": [],
   "source": [
    "# Loop to extract ALL names in med bill\n",
    "\n",
    "wb = openpyxl.load_workbook('test_med_bills_20.xlsx')\n",
    "# print(wb.sheetnames)\n",
    "people = []\n",
    "\n",
    "for ws in wb.sheetnames:\n",
    "        for col in wb[ws].iter_cols(min_row=1, max_row=700, min_col=1, max_col=1):\n",
    "            for cell in col:\n",
    "                if cell.fill.start_color.index == 'FFD8D8D8' and cell.font.b == True \\\n",
    "                and cell.value != 0:  # check for gray color, bold font, and whether cell is filled (not containing '0')\n",
    "                    people.append(cell.value.title())  #  + ' | ' + wb[ws].title)\n",
    "            \n",
    "print(f'Number of all people in Med Bills: {len(people)}\\n')\n",
    "\n",
    "# staff.sort()\n",
    "for c, sf in enumerate(people):\n",
    "    print(c+1, sf)\n",
    "    \n",
    "# s = set(people)\n",
    "# len(s)\n"
   ]
  },
  {
   "cell_type": "code",
   "execution_count": null,
   "metadata": {
    "scrolled": true
   },
   "outputs": [],
   "source": []
  },
  {
   "cell_type": "code",
   "execution_count": null,
   "metadata": {
    "scrolled": false
   },
   "outputs": [],
   "source": [
    "# Loop for Total Number of Staff and Names minus Casuals and Guests\n",
    "\n",
    "wb = openpyxl.load_workbook('MEDICAL BILLS 2020.xlsx')\n",
    "# print(wb.sheetnames)\n",
    "staff = []\n",
    "\n",
    "for ws in wb.sheetnames:\n",
    "    if 'CASUALS' not in wb[ws].title and 'GUESTS' not in wb[ws].title:\n",
    "#         ic(wb[ws].title)\n",
    "        for col in wb[ws].iter_cols(min_row=1, max_row=700, min_col=1, max_col=1):\n",
    "            for cell in col:\n",
    "                if cell.fill.start_color.index == 'FFD8D8D8' and cell.font.b == True \\\n",
    "                and cell.value != 0:  # check for gray color, bold font, and whether cell is filled (empty cells contain '0')\n",
    "                    staff.append(cell.value.title() + ' | ' + wb[ws].title)\n",
    "            \n",
    "print(f'Number of Staff minus casuals and guests: {len(staff)}\\n')\n",
    "\n",
    "# staff.sort()\n",
    "for c, sf in enumerate(staff):\n",
    "    print(c+1, sf)\n",
    "\n",
    "    \n",
    "staff_med_bills = set()\n",
    "for item in staff:\n",
    "    temp = item.split(' |')\n",
    "    staff_med_bills.add(temp[0])\n",
    "# len(staff_med_bills)\n",
    "# print(staff_med_bills)"
   ]
  },
  {
   "cell_type": "code",
   "execution_count": null,
   "metadata": {
    "scrolled": true
   },
   "outputs": [],
   "source": []
  },
  {
   "cell_type": "code",
   "execution_count": null,
   "metadata": {
    "scrolled": true
   },
   "outputs": [],
   "source": [
    "# Loop to fill all empty staff name cells with zero\n",
    "\n",
    "wb = openpyxl.load_workbook('MEDICAL BILLS 2020.xlsx')\n",
    "change_counter = 0\n",
    "\n",
    "for ws in wb.sheetnames:\n",
    "    for col in wb[ws].iter_cols(min_row=1, max_row=600, min_col=1, max_col=1):\n",
    "        for cell in col:\n",
    "            if cell.fill.start_color.index == 'FFD8D8D8' \\\n",
    "            and cell.value == None:  # check for gray color and empty cell\n",
    "                cell.value = 0\n",
    "                change_counter += 1\n",
    "\n",
    "print(f'{change_counter} instances changed.')\n",
    "wb.save('trial1.xlsx')"
   ]
  },
  {
   "cell_type": "code",
   "execution_count": null,
   "metadata": {
    "scrolled": true
   },
   "outputs": [],
   "source": []
  },
  {
   "cell_type": "code",
   "execution_count": null,
   "metadata": {
    "scrolled": true
   },
   "outputs": [],
   "source": []
  },
  {
   "cell_type": "code",
   "execution_count": null,
   "metadata": {
    "scrolled": true
   },
   "outputs": [],
   "source": [
    "# Loop to reset all entries to zero [FOR NEW MED BILLS FILE]\n",
    "\n",
    "wb = openpyxl.load_workbook('MEDICAL BILLS 2020.xlsx')\n",
    "\n",
    "for ws in wb.sheetnames:\n",
    "    for rows in wb[ws].iter_rows(min_row=4, max_row=600, min_col=3, max_col=14):  # iterating through amount cells\n",
    "        for cells in rows:\n",
    "            if cells.fill.start_color.index == 'FFD99594' \\\n",
    "            and cells.font.b == False:  # check for red colour and no bold font\n",
    "                cells.value = 0\n",
    "    print(f'Done reseting all values in {wb[ws].title}')\n",
    "wb.save('fresh med bills.xlsx')\n",
    "print('New spreadsheet saved!')"
   ]
  },
  {
   "cell_type": "code",
   "execution_count": null,
   "metadata": {
    "scrolled": true
   },
   "outputs": [],
   "source": []
  },
  {
   "cell_type": "code",
   "execution_count": null,
   "metadata": {
    "scrolled": true
   },
   "outputs": [],
   "source": [
    "wb = openpyxl.load_workbook('trial1.xlsx')\n",
    "ws = wb['ACCOUNTS M B']"
   ]
  },
  {
   "cell_type": "code",
   "execution_count": null,
   "metadata": {
    "scrolled": true
   },
   "outputs": [],
   "source": [
    "print(type(ws['I14'].value))\n",
    "print(ws['I14'].value)"
   ]
  },
  {
   "cell_type": "code",
   "execution_count": null,
   "metadata": {
    "scrolled": true
   },
   "outputs": [],
   "source": [
    "print(type(ws['I4'].value))\n",
    "print(ws['I4'].value)  # ZEROS IN WORKSHEETS ARE integers"
   ]
  },
  {
   "cell_type": "code",
   "execution_count": null,
   "metadata": {
    "scrolled": true
   },
   "outputs": [],
   "source": []
  },
  {
   "cell_type": "markdown",
   "metadata": {},
   "source": [
    "<hr>"
   ]
  },
  {
   "cell_type": "markdown",
   "metadata": {},
   "source": [
    "<h1>STAFF LIST FUNCTIONS\n",
    "</h1>"
   ]
  },
  {
   "cell_type": "code",
   "execution_count": null,
   "metadata": {
    "scrolled": true
   },
   "outputs": [],
   "source": []
  },
  {
   "cell_type": "code",
   "execution_count": null,
   "metadata": {
    "scrolled": false
   },
   "outputs": [],
   "source": [
    "# Extracting all staff names from Staff List\n",
    "\n",
    "wb = openpyxl.load_workbook('STAFF_Dependant LIST 2020.xlsx')\n",
    "sheet = wb['2020 STAFF LIST']\n",
    "staff_list = []\n",
    "\n",
    "for col in sheet.iter_cols(min_row=1, max_row=1000, min_col=1, max_col=1):\n",
    "    for cell in col:\n",
    "        if cell.value != None and cell.font.b is True and cell.font.i is False:\n",
    "#             print(cell.value.title())\n",
    "            staff_list.append(cell.value.title())\n",
    "\n",
    "print(f'Number of staff in Staff List: {len(staff_list)}\\n')\n",
    "\n",
    "staff_from_stafflist = set()\n",
    "for c, item in enumerate(staff_list):\n",
    "    staff_from_stafflist.add(item)\n",
    "#     print(c+1, item)\n",
    "\n",
    "# print(len(staff_from_stafflist))\n"
   ]
  },
  {
   "cell_type": "code",
   "execution_count": null,
   "metadata": {
    "scrolled": false
   },
   "outputs": [],
   "source": [
    "# Comparing Staff list names to names from Med Bills\n",
    "\n",
    "diff = list(staff_med_bills.symmetric_difference(staff_from_stafflist))\n",
    "print('Number of Permanent Staff in medical bills but not in Staff List: ' + str(len(diff))+'\\n')\n",
    "\n",
    "diff.sort()\n",
    "for item in diff:\n",
    "    print(item.title())"
   ]
  },
  {
   "cell_type": "code",
   "execution_count": 5,
   "metadata": {
    "scrolled": true
   },
   "outputs": [
    {
     "name": "stdout",
     "output_type": "stream",
     "text": [
      "{'ABDUL-RASHID SULEMAN': ['SEC', 'MUNIRATU ABDUL RASHID', 'ABDUL KARIM WUMPINI', 'ABDUL HAKIM NAMZUYA', 'ABDUL-HAKIM NAMZOYA ABDUL-RASHID'], 'ABENA ANTWIWAA ADOM': ['SPA', None, None], 'ABIGAIL AKPENE ABUTIATE': ['ADMIN', 'NATHANIEL NORTEY ANUM', 'DIVINE NII ADOM ANUM', 'JEMIMAH NAA AMERLEY ANUM'], 'ABIGAIL ARMAH': ['ACCT', 'ERIC N.O AYI-BONTE', 'NAA OKAIKOR AYI BONTE', 'NAA OKAILEY AYI BONTE', 'NII FIO AYI BONTE'], 'ABIGAIL MENSA': ['F&B', None, 'JOYCE EYRA NGOMA-NKENZO'], 'ABRAHAM ASHITEY': ['MAINT', 'FLORENCE M. KORLEY', None], 'ABRAHAM DONKOR': ['HK', 'GLADYS YAA AHIN', 'NAANA AMA  MENSIMA DONKOR', 'EDNA DONKOR'], 'ABRAHAM MENSAH': ['F&B', None, None], 'AGNES NAI': ['SPA', None, None], 'AKWASI YEBOAH ACHEAMPONG': ['SEC', 'DORIS ACHEAMPONG', 'ELIZABETH A. ACHEAMPONG', 'FRANCIS NTIM ACHEAMPONG', 'ERASMUS AGYEI ACHEAMPONG'], 'AKWETEY AHINGWAH': ['KITCH', 'LETICIA BAAH YIRENKYI AHINGWAH', 'AMEERA AHINGWAH', 'BARAKAT D. AHINGWAH'], 'ALBERT LARBI': ['SEC', 'HELLEN OTUBEA', 'KINGSLEY OFFEI NKANSAH', 'DANIEL LARBI', 'DAVID LARBI'], 'ALEX ODOOM': ['ACCT', 'PRISCILLA AGYEPONG', 'NANA KWABENA OPPONG NYANTEH', 'JEDIDIAH APPIAH AGYEPONG'], 'ALFRED OPOKU AGYEPONG': ['ACCT', 'HARRIET OPOKU AGYEPONG', None], 'ALHAJI ABDALLAH SEIDU': ['SEC', None, None], 'ANANI TSAGLI': ['STORES', 'ABENA KESEWAA OKYERE', 'AKUSHIKA ANANE', 'BLESS TSAGLI', 'MARIAM TSAGLI', 'AARON TSAGLI'], 'ANGELA AKUFFO': ['KITCH', None, None], 'ANGELA MEGBENU': ['KITCH', None, None], 'ANNABEL ASAMOAH MENYISSE': ['HK', 'PAUL MENYISSE', 'JOSEPH KAFUI MENYISSE', 'JOHN PAULL EDEM MENYISSE', 'IVAN SELASI MENYISSE'], 'ANTHONY SENADE': ['L', 'VICTORIA MENSAH', 'BENJAMIN SENADE', 'PORTIA AKUA SENADE'], 'ASHITEY TREBIE': ['L', 'MARY ASHITEY', 'LESLEY TREBIE'], 'ATTA OSEI BUABENG': ['ACCT', None, None], 'BASHIRU ABDALLAH': ['HOUSE', 'FOUZIA BASHIRU', 'HIBATULLAH BASHIRU', 'DIYAL BASHIRU', 'IMAL BASHIRU', 'NASIRA BASHIRU'], 'BELINDA KPORDJIE': ['HK', 'CHRISTIAN KPORDJIE', 'JOHN MAWUENA KPORDJIE'], 'BENEDICTA LARBI': ['KITCH', 'ISAAC BOYE', 'LOVIA BOYE'], 'BERNARD AHELEGBEH': ['MAINT', 'COMFORT AGYIRI', 'PRISCILLA ZUN', 'PRISCA ZUN', 'PRINCE ZUN', 'PRINCESS ZUN'], 'CAROLINE ARMAH': ['HK', 'ISAAC QUARSHIE', None], 'CAROLINE LARSEY': ['KITCH', 'MOSES LARSEY', 'DESIREE MARGRETA ASHIRIFIA LARSEY', 'JEDIDIAH ROONEY ASHIRIFIE LARSEY', 'JAYDA OSENKOR LARSEY'], 'CATHERINE DADZIE-MENSAH': ['SPA', 'EBENEZER DADZIE-MENSAH', 'PAPA KOFI DADZIE-MENSAH', 'NANA EKOW DADZIE-MENSAH'], 'CASSANDRA M. CUBAGEE': ['KITCH', None, None], 'CECILIA KEGAY': ['KITCH', 'RAPHAEL OSEI-BOAFO', 'AWURAMA OSEI-BOAFO', 'RACHEAL OSEI-BOAFO'], 'CECILIA TAGOE': ['F&B', 'STEPHEN FOLITSE', 'BLESSING MAKAFUI FOLITSE', 'CHRISTIAN FOLITSE'], 'CHARLES BOSOMTWI DUGAN': ['SEC', 'VIVIAN DUGAN', None], 'CHARLES MOMOR TETTEH': ['KITCH', None, None], 'CHARLES OFORI YEBOAH': ['SEC', 'RITA OPOKUWAA', 'LEAH A. OFORI', 'JOLANIE A. OFORI', 'IVAN OFORI-YEBOAH'], 'CHARITY COMIETER': ['KITCH', 'EMMANUEL YEMOH QUARSHIE', None], 'CHRISTINE AGBANU': ['KITCH', None, None], 'CHRISTOPHER KANSIS': ['KITCH', None, None], 'CLEMENT ATIADZE': ['HOUSE', 'CHRISTIANA ATIADZE', 'ELI ATIADZE', 'EDITH AKOS ATIADZE'], 'CLEMENT YAW MICAH': ['SEC', 'LETICIA MICAH', 'ALEXANDER MICAH', 'KEZIAH MICAH', 'KAREN MICAH'], 'CLIFFORD ELVIS HESSE': ['SEC', 'BEATRICE NAA AMALEY HESSE', 'JASON BRYAN HESSE', 'MATILDA ROSE HESSE'], 'CYNTHIA AHIA': ['HK', None, None], 'DANIEL LARYEA': ['F&B', 'GEORGINA LARYEA', 'SARAH MANTEKI LARYEA ', 'NATHAN M. LARYEA', 'HENRIETA TEIKOR LARYEA', 'RAYMOND LARYEA NII BOYE'], 'DANIEL AMOAH': ['KITCH', 'LINDA OFORIWAA AMOAH', 'LORRAINE SARPOMAA AMOAH', 'LORRETTA DONSOAA AMOAH'], 'DANIEL TETTEH': ['F&B', 'ELIZABETH ATTOH', 'DANIELLA EYRAM TETTEH'], 'DARRYL OBOSHI SCHANDORF': ['F&B', None, 'ANSEL R.K. SCHANDORF'], 'DAVID EDUAFUL': ['SALES', 'ALBERTA EDUAFUL', 'FIIFI ODZIMAMO EDUAFUL'], 'DAVID GAGAKUMA': ['F&B', 'BELINDA GAGAKUMA', 'DAVIS EDEM GAGAKUMA ', 'DAVINA ELORM GAGAKUMA'], 'DAVID MARMAH BOTCHWAY': ['HK', 'MARGARET BOTCHWAY', 'BRIGHT NII MARTEY', 'BLESSING M. BOTCHWAY'], 'DESMOND O. KPOKLI-TSWASAM': ['MAINT', 'RITA OFOU-TSAWASAM', 'NAA SHIDAA AKUTU OFOLI-TSAWASAM'], 'DICKSON AGBODZA': ['MAINT', None, None], 'DOMINIC LA-AONI': ['F&B', 'FLORENCE AZUMAH BAMEBAYA', 'REGINALD NBAYIN', 'DUODAN LA-AONI', 'CLARA M. LA-AONI', 'ZIBORA BENGRI'], 'DORA ANNOBIL': ['SPA ', 'EBO ANNOBIL', 'HARRY KOJO ANNOBIL', 'SUTHERLAND NII AMU EBO ANNOBIL', 'JAYDEN FIIFI NHYIRA ANNOBIL'], 'DORCAS OWUSU': ['ACCT', 'RICHARD BEDIAKO', 'NANA YAW NYAMEDOM BEDIAKO', 'NANA AFUA BEDIAKO NYAMEYE'], 'DORIS AGBOVI': ['HK', None, 'MARIE TERESA TETTEH'], 'DOUGLAS ASIEDU': ['ACCT', 'GIFTY MENSAH', 'AMA TIWAA ANYAN ASIEDU', 'DOUGLAS ASIEDU JNR.', 'LORINDA ASIEDU', 'NANA KWAME ASIEDU', 'YAW ASIEDU'], 'EBENEZER NII NAI LARSEY': ['KITCH', 'SANDRA ADDO LARSEY', 'KALDRICK OWEN NII MARLEY KWAMI LARSEY', 'KEISHA LARSEY'], 'EKUA ZARA AWONANA GHARTEY': ['F&B', 'CHARLES W.F. TSAGLI', None], 'EMMANUEL AFERDI': ['L', 'BERNICE MENSAH AFERDI', 'CHRISTIAN AFERDI', 'MAXWELL AFERDI'], 'EMMANUEL ANIMLEY': ['ACCT', 'SANDRA BOABENG YEBOAH', 'JEFFERY TETTEH ANIMLEY', 'JESSE NARTEY ANIMLEY'], 'EMMANUEL ASARE SAKYI': ['ACCT', 'REGINA OKYERE AGYEIWAA', 'NANA YAW AMPENE ASARE', 'ABENA TWUMWAA ASARE'], 'EMMANUEL APPIAH': ['SEC', None, 'OWEN APPIAH'], 'EMMANUEL DARTEY': ['HOUSE', 'LORETTA MENSAH', 'NANA YAW O. DARTEY', 'NAOMI DARTEY', 'NANA KWAME ASANTE DARTEY', 'NANA AMA ASANTEWAA NHYIRA DARTEY'], 'EMMANUEL LARBI': ['HOUSE', None, None], 'EMMANUEL MARTEI KORLEY': ['MAINT', 'ROSE NUKUL', 'MARY TEIKI MARTEI', 'EMMANUEL KORLEY'], 'ERIC ADJETEY ADJEI': ['F&B', 'JOSEPHINE ANYELEY ADJETEY', 'JOSEPH NII TAWIAH PATTERSON ADJETEY', 'BENEDICT SOWAH ADJETEY'], 'ERIC DERY TIENUKU': ['HOUSE', 'THERESA SOWATEYE', 'IRENE NAZIREH DERY', 'ERICA YELVEILLI DERY', 'DERY YANPAALA TIENUKU'], 'ERNEST APENTENG': ['SEC', 'MARY ASAMENNIWAAH', None], 'ERNEST KAGUAH': ['ACCT', 'STELLA ADAAH KAGUAH', 'AWELANA KAGUAH ', 'EDGER A. EUSTACE KAGUAH', 'ERNEST KAGUAH JNR.', 'DENIS KAGUAH'], 'ESI BHARATI KINNAH': ['HOUSE', None, None], 'ESTHER NSIAH': ['KITCH', None, None], 'EUNICE MENSAH': ['HK', None, None], 'EUNICE KPOR': ['HK', None, None], 'EVANS ADZAHO': ['MAINT', 'EVELYN AFI ADZAHO', 'EDEM KWAME ADZAHO', 'EMEFA ADZAHO'], 'EVELYN ADJETEY': ['KITCH', 'JERRY SOWAH ADJETEY', 'JACQUELINE TAWIA ADJETEY', 'JESSICA A. ADJETEY', 'JASMINE A. ADJETEY'], 'EVELYN AMOAH': ['HOUSE', None, None], 'FAUSTINA AKOI-LARBI': ['KITCH', 'RICHARD K. AKOI LARBI', 'MICHAEL BERNARD AKOI-LARBI JNR.', 'REGINALD E. AKOI-LARBI'], 'FAUSTINA QUARM': ['HK', 'SAMUEL OKPOTI', 'JOSEPHINE AMA YABA ADU'], 'FESTUS TWUMASI ANKRAH': ['ACCT', 'REGINA OBLIM', None], 'FLORENCE BANNOR': ['HOUSE', 'EDMUND DEWORNU', 'CARL D. ATIGAH'], 'FRANCES FYNN': ['HK', None, None], 'FRANCIS DOGBEY': ['F&B', 'DINA D. AYERH', 'MAWUTOR DOGBEY', 'ETORNAM DOGBEY'], 'FRANK ASHITEY': ['MAINT', 'NELLY ASHITEY', 'STEPHANIE MARGARET AMARH', 'NINETTE ASHITEY', 'JOSHUA ASHITEY'], 'FRANKLIN DOWUONA': ['F&B', 'BELINDA SESHIE', 'EMELIA DOWUONA', 'KELVIN DOWUONA'], 'FRASER YAO FIAGBADU': ['MAINT', 'CYNTHIA OFORI', 'GABRIEL FIAGBADU'], 'FRED OPOKU': ['MAINT', None, None], 'FREDA ODONKOR': ['HK', 'RAYMOND DENNIS', 'MANUEL KUUKU DADZIE', 'RODALINE ADJETEY ADJEI', 'BRYAN K. EBO DENNIS'], 'GARY LANE': ['KITCH', None, None], 'GEORGE AYISI': ['SALES', 'EVELYN AYISI', 'AUDREY AKUA AMPOFOAH AYISI', 'IVAN OHENE-DARKO AYISI', 'BRYAN AYISI'], 'GEORGE BROBBEY': ['ACCT', 'PATRICIA ADUBEA BROBBEY', 'ANINONYAM NANA KWABENA BROBBEY'], 'GEORGE NYARKO': ['KITCH', 'ESTHER MARIGOLD OFORI-NYAKO', 'CEPHAS YAW NYARKO', 'CLEOPAS NYARKO', 'ALEX KOJO NYARKO'], 'GIFTY FIADJOE': ['HOUSE', 'XORLALI K. ACKUMEY', 'CYRIL ENRAM ACKUMEY', 'ARNOLD N. ACKUMEY'], 'GLORIA ORLEANS-MENDS': ['ADMIN', 'ERIC M. BOSOMTWE', 'EMIL YOOFI BOSOMTWE', 'PAPA KWABENA BOSOMTWE'], 'GODFRED GYEBI': ['STORES', 'JULIANA GYEBI', 'YAW AMOAKO-GYEBI', 'OHENEWAA ABENA GYEBI'], 'GRACE AFRAH': ['HK', None, None], 'HAPPY AGBATI': ['HK', 'EMMANUEL BANSAH', None], 'HOSEA LIVERPOOL': ['F&B', 'ROSEMOND LIVERPOOL', 'JOSEPH OSAFO-AGYAPONG', 'JONATHAN AGYAPONG OSAFO', 'JOYCELYN S. LIVERPOOL'], 'IBRAHIM ABDALLAH': ['ACCT', 'FATIMATU IBRAHIM MOHAMMED', 'RIDWAN IBRAHIM'], 'IRENE ABAAH': ['KITCH', None, None], 'IRENE OFORI-TEIKO': ['HOUSE', 'JOSEPH OFORI-TEIKO', 'JUDE OFORI-TEIKO'], 'ISAAC ABOAGYE-OKYERE': ['KITCH', None, None], 'ISAAC ASHIE AMON': ['L', 'HELLEN ADJETEY ADJEI', 'RACHEL NAA SHIKA AMON', 'BRIGHT AMON KOTEY', 'BISMARK AMON KOTEY'], 'ISAAC NII AMON NEEQUAYE': ['HOUSE', 'HARRIET AYIBONTE', 'KYRA NAA DEI NEEQUAYE'], 'ISAAC MENSAH': ['HK', 'BERNICE MENSAH', None], 'ISAAC YAW MENSAH': ['HK', 'CHARLOTTE HESSE', 'GABRIEL MENSAH', 'SAMUEL MENSAH', 'MAUD MENSAH'], 'ISHMAEL DODOO': ['F&B', None, 'RENE ISAAC DODOO'], 'IVY AMOH': ['KITCH', 'FRANCIS AMOH', 'MICHAEL AMOH'], 'JACOB T. LARTEY': ['HK', None, None], 'JACQUELINE ODURO': ['SPA', None, None], 'JAMES BROWN NKUDEDE': ['SEC', 'CHRISTIANA LARSEY', 'EYRAM NKUDEDE', 'ELEMELECH  RANDEL NKUDEDE', 'EWENAM NANA AKUA NKUDEDE'], 'JANET ANIM': ['KITCH', 'ERIC TEIKU TAMATEY', 'ERICA ADJOA TAMATEY'], 'JANET DE-HEER': ['ACCT', None, 'ANGEL DE GRAFT JOHNSON'], 'JESSICA JOCHEBED MANTE': ['KITCH', None, None], 'JOANA NYARKO': ['KITCH', None, 'ALMA SOWATEY'], 'JOHN AMOAH': ['HOUSE', 'MAVIS ADJETEY', 'JOHN AMOAH JNR. ', 'STANLEY AMOAH', 'SANDRA CARREN KRAMPAH AMOAH', 'DYLIS AMOAH'], 'JOHN ABLORH ANUM': ['L', 'JUDITH ABLORH', 'BERNICE ADJELEY ANUM ABLOR', 'JUDE ABLORH', 'JOHN ABLORH JNR.'], 'JONATHAN COFFIE': ['KITCH', None, None], 'JOSEPH ADJETEY ANANG': ['MAINT', 'JOSEPHINE YEMOTELEY TETTEH', 'SAMUEL SOWAH'], 'JOSEPH DODOO': ['L', 'ADIZA ADIJATU DODOO', 'ABERDE DODOO'], 'JOSEPH MARTEY LARYEA': ['L', 'PATIENCE LARYEA', 'MANASSEH MAMAH MARTEY', 'MILLICENT MARTEY', 'MABEL MARTEY'], 'JOSEPHINE ASUMANG': ['KITCH', 'MATTHEW ANNANG ASUMANG', 'STEPHEN ASUMANG ', 'MELVIN ASUMANG', 'MEGAN NAA ASUMANG'], 'JOSEPHINE EWUSIE': ['F&B', None, None], 'JOYCE AGBEMADZI': ['HK', 'ROBINSON OFOE', 'CHRISTOPHER OFOE', 'KEVIN TT OFOE JNR.'], 'JULIUS LARTEY': ['HOUSE', 'SUSAN ARHIN', 'NOEL TETTEH LARTEY', 'NOBLE ARNOLD A. LARTEY', 'EMMANUELLA NAADU DROMO LARTEY'], 'KENNEDY KIDIIGA': ['F&B', 'ELIZABETH WANJIRU', 'GREG GITAU ASACHA', 'ALBERT KIDIIGA ASACHA'], 'KENNETH APASU': ['SALES', None, None], 'KILLIAN AFEDOH': ['L', 'CHRISTIANA AMUAH', 'NICHOLAS AGZARAH AFEDO', 'MAWUKO AFEDO'], 'LINDA POKOO-AIKINS': ['F&B', 'CHARLES OPPONG', 'MICHAEL KWABENA OKYERE OPPONG', 'KWAME OPPONG', 'OPONGBEA OPPONG'], 'LORRINDA QUARSHIE': ['HK', None, None], 'LYDIA ONINKU': ['KITCH', 'JUSTICE KORSAH', 'EFUA NHYIRA KORSAH'], 'MABEL ADUMANG': ['KITCH', None, None], 'MARTIN OSEI NTIM': ['HOUSE', 'PEACE NTIM', 'ABENA ASAAH NTIM', 'KOFI OSEI NTIM', 'ASOMDWE EWURAFUA NTIM OSEI'], 'MARTIN ASIMENG': ['STORES', None, None], 'MARTHA KWATIAH': ['L', None, None], 'MARY NYADU': ['HK', None, None], 'MAVIS ADUTWUMWAA-OPOKU': ['F&B', None, None], 'MERCY ANNANG AGYEPONG': ['KITCH', 'ISAAC OKYERE AGYEPONG', 'NHYIRAH AGYEPONG', 'AYEYI AGYEPONG', 'ANUONYAM AGYAPONG'], 'MERCY BEEKO': ['F&B', 'DAVID ATTA ANTWI BEEKO', None], 'MICHAEL ANNANG': ['SEC', None, None], 'MICHAEL AWUAH': ['KITCH', None, None], 'MICHAEL KODZO-GBOR': ['KITCH', 'DORINDA KODZO-GBOR', 'CHERYL SEYRAM KODZO', 'TRISTAN M. KODZO'], 'MICHAEL KWABENA OPPONG': ['F&B', 'PATIENCE OGUAAH', 'KELVIN KODIE OPPONG', 'GERTRUDE ABA . OPPONG'], 'MILLICENT DANQUAH': ['HK', None, 'COLLEEN KEZIAH AGOLASOE'], 'MOSES ASHIRIFIE QUASHIE': ['F&B', None, None], 'MOSES MENSAH LARSEY': ['L', 'CAROLINE LARSEY', 'BRIGHT ASHIRIFI LARSEY', 'JEDIDIAH ROONEY ASHIRIFIE LARSEY', 'DESIREE MARGRETA ASHIRIFIA LARSEY', 'JAYDA OSENKOR LARSEY'], 'NANA YAW OBUOBI': ['SEC', 'RITA BURAH', 'KELVIN OBUOBI', 'DESMOND OBUOBI', 'BRIDGET OBUOBI', 'OFFEIBEA AFUA OBUOBI'], 'NANA YAW AMPOFO': ['ACCT', 'SHERRY AMPOFO', None], 'NAOMI ASHITEY AMARH': ['KITCH', None, None], 'NATHANIEL YAW KWOFIE': ['STORES', None, None], 'OLIVIA TETTEH BIMPEH': ['ADMIN', 'FIDEL TETTEH', 'ALLEN SELASI TETTEH', 'SEYRAM TETTEH'], 'PATIENCE AIDOO': ['SALES', None, 'ASAFU-ADJAYE CAYDEN'], 'PATRICIA AGBENOWOSI': ['HOUSE', 'EVANS AGGREY', 'ESMOND AGGREY'], 'PATRICIA AMARH': ['KITCH', 'MICHAEL AMARH', None], 'PAUL KATERNOR': ['SEC', 'GIFTY AMA MENSAH', 'MICHAEL AKWESI KATERNOR'], 'PAUL ADZAHO': ['MAINT', 'THERESA ADZAHO', 'EDINAM KOFI ADZAHO', 'ELINAM XOVE ADZAHO', 'EKLENAM ADZAHO'], 'PAUL YEVUGAH': ['MAINT', 'EDITH AMEMATSROR', 'WINIFRED SENAM YEVUGAH', 'ROGER S. K. YEVUGAH'], 'PETER K. APPAH': ['HOUSE', 'JENNIFER APPAH', 'DANIEL K. APPAH'], 'PERRY S. ABROKWAH': ['HOUSE', None, None], 'PHOEBE ODOOM': ['SALES', None, None], 'PHILIP ADU-MENSAH': ['HOUSE', 'EUNICE SESHIE ', 'EYRAM ADU-MENSAH', 'URIEL YOOFI ADU-MENSAH'], 'PRISCILLA ANANG': ['ADMIN', 'MARK MARTEY', 'CALEB MARTEY', 'CARL NII MARTEY'], 'PROSPER ASSAN': ['MAINT', 'LINDA AQUAH', 'ERNEST ASSAN', 'EUNICE ASSAN'], 'PRUDENCE ATTIPOE': ['KITCH', 'AGNES AKRONG', 'EZEKIEL D. KWAJO ATTIPOE', 'CECILIA ATTIPOE'], 'RAMPSON AGBENYO': ['F&B', 'MILLICENT KLOKPAH AGBENYO', None], 'REGINA MENSAH': ['KITCH', None, None], 'REGINA OBLIM': ['KITCH', None, None], 'REGINA QUAYE': ['HK', None, None], 'RENE VINCENT-ERNEST': ['ADMIN', None, None], 'RICHARD DZIDZORNU': ['ACCT', 'LYDIA DZIDZORNU', 'RACHEL DZIDZORNU', 'EMMANUEL DZIDZORNU'], 'RICHARD MINTAH': ['KITCH', None, 'KOFI MINTAH KYEREMEH'], 'RICHARD TAWIAH': ['ACCT', None, None], 'RICHARD TETTEH': ['KITCH', None, 'TORI RONNELA ASEYE TETTEH'], 'RICHMOND ADJETEY ADJEI': ['SEC', 'EUGENIA ADJELEY ADJEI', 'RICHMOND NII ADJETEY', 'YVETTE ATSWEI ADJETEY', 'RICHAEL ADJETEY'], 'ROBERT NKETIAH MENSAH': ['KITCH', None, None], 'ROBERT SOWAH NAI': ['MAINT', 'VASTINA ADALETE', 'NAA DROMO NAI', 'ELIZABETH NAI SOWAH', 'ROBERTA NAI SOWAH'], 'ROCKSON DUHO': ['SEC', 'PHILOMINA EFUA ESSEL', 'ELVIN SELORM DUHO'], 'ROMINUS AMOAH': ['HK', 'JOSEPHIN FOFOE ARMAH', 'LESLEY B. AMUAH', 'JOSHUA AMOAH'], 'SALOMEY NORTEY': ['F&B', 'SAMUEL NORTEY', 'BEATRICE AMARTEI', 'CINDY NAA NORKOR AMARTEY'], 'SALOMEY ADOLEY PAPPOE': ['HK', 'EMMANUEL AMIONOO-QUANSAH', 'NANA KOBINA QUANSAH'], 'SAMUEL ABEKA GOGO': ['KITCH', 'ANGELA ANUM', 'PRINCEJUDE T. GOGO', 'JAYSON ASHITEY-TREBI', 'PHILIP OKO-GOGO', 'PATRICK AKWETTE GOGO'], 'SAMUEL LAMPTEY ODARTEY': ['KITCH', 'FAUSTINA LAMPTEY', 'SAMUEL NII LANTE LAMPTEY', 'NAA LAMILE LAMPTEY LOIS'], 'SAMUEL LAMPTEY ODATEI': ['MAINT', 'GIFTY QUARTEY', 'BEATRICE LAMPTEY', 'MATILDA LAMPTEY', 'LESLEY LAMPTEY'], 'SAMUEL OBENG SAFORO': ['F&B', 'STELLA OBENG SAFORO', 'NANA KOFI AMANKWAH SAFORO', 'NANA ASEDA O. SAFORO', 'NANA ASEDA O. SAFORO'], 'SAMUEL OPUNI MENSAH': ['F&B', None, None], 'SAMUEL YEBOAH': ['L', 'KATE YEBOAH', 'NADIA YEBOAH', 'GIDEON ASOMANI YEBOAH'], 'SAMPSON AWUMI': ['KITCH', None, None], 'SIMON AZUMAH MARTEY-KORLEY': ['KITCH', 'ALICE MARTEY-KORLEY', 'PRINCE TEYE NAMILLA'], 'SOLOMON AIDOO': ['L', 'BERNICE OGBOO LEMUDI', 'SULEMAN JOJO AIDOO'], 'SOLOMON ANNANG': ['HOUSE', 'ABIGAIL ANNANG', 'LEONEL OKOE LARYEA', 'LEONA AKWELEY LARYEA'], 'SOLOMON DOKU': ['ACCT', None, 'CHRISTABEL DOKU'], 'SUSANA SETSOAFIA': ['ADMIN', 'JOSEPH SETSOAFIA', 'SEYRAM SETSOAFIA', 'KERON SELORM SETSOAFIA', 'ELLIOTE SETSOAFIA'], 'THELMA QUAYEGAH': ['HOUSE', None, None], 'THERESA ADZAHO SOWAH': ['HOUSE', 'PAUL ADZAHO', 'EDINAM KOFI ADZAHO', 'ELINAM XOVE ADZAHO', 'EKLENAME ADZAHO'], 'THEODORA ALLOTEY': ['F&B', 'JOSEPH DORGBETOR', 'THEOPHILUS ATTIVOR', 'EUTYCHUS AYIVOR'], 'VALENTINE ALEH': ['KITCH', None, None], 'VICTOR BUACHIE GLANTEY': ['HOUSE', 'VICTORIA NAAJAH SACKEY', 'YAYRA GLANTEY'], 'VINCENT KOTEY': ['ACCT', 'CHRISTINA KOTEY', 'REGINALD GYANO KOTEY', 'DENZEL NII AMU KOTEY', 'DAVE NII KOI KOTEY', 'PRAISE KOTEY'], 'VINCENT MICAH': ['SEC', None, None], 'VINCENT M. NYAWUAME': ['KITCH', None, None], 'VINOLIA AGBEZUGE': ['L', None, None], 'WILLIAM OKYERE': ['ACCT', 'SUSAN OKYERE', None], 'WILLIAM AHINAKWAH': ['HOUSE', 'ADELAIDE L. MINGLE', None], 'WILLIAM AMETEPE': ['SEC', 'PEACE AMETEPE', 'EDEM GODSWAY AMETEPE', 'BENEDICTA AMETEPE', 'RICHARD AMETEPE'], 'YAW ASAMOAH': ['MAINT', None, 'ENAM ASAMOAH']}\n",
      "204\n"
     ]
    }
   ],
   "source": [
    "# Extracting details of staff from Staff List\n",
    "\n",
    "staff_details = {}\n",
    "wb = openpyxl.load_workbook('test_staff_list.xlsx')\n",
    "sheet = wb['2020 STAFF LIST']\n",
    "\n",
    "for row in range(3, 701):  # ignoring header labels\n",
    "    for col in range(1, 5):  # 1st to 4th column\n",
    "        cell = sheet.cell(row=row, column=col)\n",
    "        staff_cell = sheet.cell(row=row, column=1)  # cell with staff name\n",
    "        \n",
    "        if col == 1 and cell.value != None and cell.font.b is True and cell.font.i is False: # staff name\n",
    "            backup_staff_cell = sheet.cell(row=row, column=1)\n",
    "            staff_details[cell.value] = []\n",
    "            \n",
    "        if col == 2 and cell.value != None:\n",
    "            staff_details[staff_cell.value].append(cell.value)\n",
    "            \n",
    "        if col == 3 and cell.value == None: # means no spouse\n",
    "            if staff_cell.value != None:  # there was a staff name in first cell\n",
    "                staff_details[staff_cell.value].append(None)\n",
    "            else:\n",
    "                continue\n",
    "                \n",
    "        if col == 3 and cell.value != None: # has a spouse\n",
    "            staff_details[staff_cell.value].append(cell.value)\n",
    "        \n",
    "        if col == 4 and cell.value == None: # doesn't have a child\n",
    "            if staff_cell.value != None:\n",
    "                staff_details[staff_cell.value].append(None)\n",
    "            else:\n",
    "                continue\n",
    "                \n",
    "        if col == 4 and cell.value != None: # has a child\n",
    "            if (staff_cell.value and sheet.cell(row=row, column=2) and sheet.cell(row=row, column=3)) is None:  # first 3 colmns are empty means multiple children\n",
    "                staff_details[backup_staff_cell.value].append(cell.value)\n",
    "            else:\n",
    "                staff_details[staff_cell.value].append(cell.value)\n",
    "                \n",
    "\n",
    "            \n",
    "\n",
    "for k, v in staff_details.items():\n",
    "#     print(k,'->', v)\n",
    "    pass\n",
    "print(staff_details)\n",
    "print(len(staff_details))\n",
    "            \n",
    "# for x in staff_details.keys():\n",
    "#     if 'ABIGAIL' in x:\n",
    "#         print(x)\n",
    "#         print(staff_details[x])\n",
    "    \n",
    "\n"
   ]
  },
  {
   "cell_type": "code",
   "execution_count": null,
   "metadata": {
    "scrolled": false
   },
   "outputs": [],
   "source": [
    " # Extracting Staff without child or spouse on record\n",
    "    \n",
    "for k,v in staff_details.items(): \n",
    "    if v[2] is None and v[1] is None:\n",
    "        print(k, v)\n",
    "        \n",
    "    "
   ]
  },
  {
   "cell_type": "code",
   "execution_count": null,
   "metadata": {},
   "outputs": [],
   "source": []
  },
  {
   "cell_type": "code",
   "execution_count": null,
   "metadata": {},
   "outputs": [],
   "source": []
  },
  {
   "cell_type": "code",
   "execution_count": null,
   "metadata": {},
   "outputs": [],
   "source": [
    "# Function to extract spouse and children names from Staff List\n",
    "\n",
    "wb = openpyxl.load_workbook('test_staff_list.xlsx')\n",
    "s_and_c_names = []\n",
    "\n",
    "for ws in wb.sheetnames:\n",
    "    for row in wb[ws].iter_rows(min_row=3, max_row=700, min_col=3, max_col=4):\n",
    "        for cell in row:\n",
    "            if cell.value != None and cell.value.isupper() is True:  # check for upper case letters and not empty cell\n",
    "                s_and_c_names.append(cell.value.title())\n",
    "\n",
    "print(f'There are {len(s_and_c_names)} dependants for staff.\\n')\n",
    "# for i in s_and_c_names:\n",
    "#     print(i)\n",
    "    \n",
    "people.extend(s_and_c_names)\n",
    "print(f'There are {len(people)} total people in record')\n",
    "\n",
    "for x in people:\n",
    "    print(x)"
   ]
  },
  {
   "cell_type": "code",
   "execution_count": null,
   "metadata": {},
   "outputs": [],
   "source": []
  },
  {
   "cell_type": "markdown",
   "metadata": {},
   "source": [
    "<hr>"
   ]
  },
  {
   "cell_type": "code",
   "execution_count": null,
   "metadata": {
    "scrolled": true
   },
   "outputs": [],
   "source": []
  },
  {
   "cell_type": "code",
   "execution_count": null,
   "metadata": {},
   "outputs": [],
   "source": [
    "from datetime import datetime"
   ]
  },
  {
   "cell_type": "code",
   "execution_count": null,
   "metadata": {},
   "outputs": [],
   "source": [
    "# Function to insert amount into a specific month's cell\n",
    "\n",
    "wb = openpyxl.load_workbook('test_med_bills_20.xlsx')\n",
    "staff = 'Festus Twumasi Ankrah'\n",
    "dependant = None\n",
    "\n",
    "# values here are the number of cells away from the staff name cell\n",
    "months = {'January': 2, 'February': 3, 'March': 4, 'April': 5, 'May': 6, 'June': 7, 'July': 8,\n",
    "          'August': 9, 'September': 10, 'October': 11, 'November': 12, 'December': 13}"
   ]
  },
  {
   "cell_type": "code",
   "execution_count": null,
   "metadata": {
    "scrolled": true
   },
   "outputs": [],
   "source": [
    "# Todo: Maybe break it up into search function\n",
    "\n",
    "start = datetime.now()\n",
    "for ws in wb.sheetnames:\n",
    "    for col in wb[ws].iter_cols(min_row=1, max_row=700, min_col=1, max_col=1):\n",
    "        for cell in col:\n",
    "            if cell.fill.start_color.index == 'FFD8D8D8' and cell.font.b is True \\\n",
    "            and cell.value == staff: # check for gray cell, bold font and staff name\n",
    "                    print('Name:', cell.value, ',','Department:', wb[ws].title)\n",
    "#                     print(cell.row, cell.column)\n",
    "                    c = wb[ws].cell(row=cell.row, column=cell.column)\n",
    "#                     print(c.offset(row=0, column=3).value)\n",
    "\n",
    "                    # todo: check if value is 0 first then append '='\n",
    "                    if c.offset(row=0, column=3).value == 0:\n",
    "                        c.offset(row=0, column=3).value = '=' + '500'\n",
    "                    else:\n",
    "                        c.offset(row=0, column=3).value = str(c.offset(row=0, column=3).value) + '+' '500'\n",
    "\n",
    "stop = datetime.now()\n",
    "print('Elapsed time:', stop-start)\n",
    "\n",
    "\n",
    "\n",
    "\n",
    "\n",
    "wb.save('test_med_bills_20.xlsx')\n",
    "print('saved')\n"
   ]
  },
  {
   "cell_type": "markdown",
   "metadata": {},
   "source": []
  },
  {
   "cell_type": "code",
   "execution_count": null,
   "metadata": {},
   "outputs": [],
   "source": []
  },
  {
   "cell_type": "code",
   "execution_count": null,
   "metadata": {},
   "outputs": [],
   "source": []
  },
  {
   "cell_type": "code",
   "execution_count": null,
   "metadata": {},
   "outputs": [],
   "source": []
  }
 ],
 "metadata": {
  "kernelspec": {
   "display_name": "Python 3",
   "language": "python",
   "name": "python3"
  },
  "language_info": {
   "codemirror_mode": {
    "name": "ipython",
    "version": 3
   },
   "file_extension": ".py",
   "mimetype": "text/x-python",
   "name": "python",
   "nbconvert_exporter": "python",
   "pygments_lexer": "ipython3",
   "version": "3.8.3"
  }
 },
 "nbformat": 4,
 "nbformat_minor": 4
}
