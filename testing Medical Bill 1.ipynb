{
 "cells": [
  {
   "cell_type": "code",
   "execution_count": null,
   "metadata": {
    "scrolled": true
   },
   "outputs": [],
   "source": [
    "import os\n",
    "import openpyxl\n",
    "from openpyxl.styles import colors,PatternFill\n",
    "from icecream import ic"
   ]
  },
  {
   "cell_type": "code",
   "execution_count": null,
   "metadata": {
    "scrolled": true
   },
   "outputs": [],
   "source": [
    "# TODO:\n",
    "\n",
    "# Add validation to cells in code (possibly later)\n",
    "# Add statistics of 'slots' in code(total name slots, occupied, available)"
   ]
  },
  {
   "cell_type": "code",
   "execution_count": null,
   "metadata": {
    "scrolled": true
   },
   "outputs": [],
   "source": [
    "os.chdir('B:/Desktop/med bills test/')"
   ]
  },
  {
   "cell_type": "code",
   "execution_count": null,
   "metadata": {
    "scrolled": true
   },
   "outputs": [],
   "source": [
    "os.getcwd()"
   ]
  },
  {
   "cell_type": "code",
   "execution_count": null,
   "metadata": {
    "scrolled": true
   },
   "outputs": [],
   "source": [
    "os.listdir()"
   ]
  },
  {
   "cell_type": "code",
   "execution_count": null,
   "metadata": {
    "scrolled": true
   },
   "outputs": [],
   "source": [
    "Colors = colors.COLOR_INDEX"
   ]
  },
  {
   "cell_type": "code",
   "execution_count": null,
   "metadata": {
    "scrolled": true
   },
   "outputs": [],
   "source": [
    "# Colors"
   ]
  },
  {
   "cell_type": "code",
   "execution_count": null,
   "metadata": {
    "scrolled": true
   },
   "outputs": [],
   "source": [
    "wb = openpyxl.load_workbook('MEDICAL BILLS 2020.xlsx')\n",
    "wb.sheetnames"
   ]
  },
  {
   "cell_type": "markdown",
   "metadata": {},
   "source": [
    "<H1> MED BILLS FUNCTIONS\n",
    "</H1>"
   ]
  },
  {
   "cell_type": "code",
   "execution_count": null,
   "metadata": {
    "scrolled": true
   },
   "outputs": [],
   "source": [
    "# loop for Names and Number of Staff in Staff Names Column for specific sheets\n",
    "\n",
    "wb = openpyxl.load_workbook('trial1.xlsx')\n",
    "sheet = wb['KITCHEN M B']\n",
    "slot_counter = 0\n",
    "\n",
    "for i in range(1,500):\n",
    "    cell = sheet.cell(row=i, column=1)\n",
    "    if cell.fill.start_color.index == 'FFD8D8D8' \\\n",
    "    and cell.font.b == True:                       # check for gray cell and bold font\n",
    "        print(cell.value)\n",
    "        slot_counter += 1\n",
    "        \n",
    "print(f'\\nThere are {slot_counter} slots in {sheet.title}')"
   ]
  },
  {
   "cell_type": "code",
   "execution_count": null,
   "metadata": {},
   "outputs": [],
   "source": []
  },
  {
   "cell_type": "code",
   "execution_count": null,
   "metadata": {},
   "outputs": [],
   "source": [
    "# Loop to extract ALL names in med bill\n",
    "\n",
    "wb = openpyxl.load_workbook('test_med_bills_20.xlsx')\n",
    "# print(wb.sheetnames)\n",
    "people = []\n",
    "\n",
    "for ws in wb.sheetnames:\n",
    "        for col in wb[ws].iter_cols(min_row=1, max_row=700, min_col=1, max_col=1):\n",
    "            for cell in col:\n",
    "                if cell.fill.start_color.index == 'FFD8D8D8' and cell.font.b == True \\\n",
    "                and cell.value != 0:  # check for gray color, bold font, and whether cell is filled (not containing '0')\n",
    "                    people.append(cell.value.title())  #  + ' | ' + wb[ws].title)\n",
    "            \n",
    "print(f'Number of all people in Med Bills: {len(people)}\\n')\n",
    "\n",
    "# staff.sort()\n",
    "for c, sf in enumerate(people):\n",
    "    print(c+1, sf)\n",
    "    \n",
    "# s = set(people)\n",
    "# len(s)\n"
   ]
  },
  {
   "cell_type": "code",
   "execution_count": null,
   "metadata": {
    "scrolled": true
   },
   "outputs": [],
   "source": []
  },
  {
   "cell_type": "code",
   "execution_count": null,
   "metadata": {
    "scrolled": true
   },
   "outputs": [],
   "source": [
    "# Loop for Total Number of Staff and Names minus Casuals and Guests\n",
    "\n",
    "wb = openpyxl.load_workbook('test_med_bills_20.xlsx')\n",
    "# print(wb.sheetnames)\n",
    "staff = []\n",
    "\n",
    "for ws in wb.sheetnames:\n",
    "    if 'CASUALS' not in wb[ws].title and 'GUESTS' not in wb[ws].title:\n",
    "#         ic(wb[ws].title)\n",
    "        for col in wb[ws].iter_cols(min_row=1, max_row=700, min_col=1, max_col=1):\n",
    "            for cell in col:\n",
    "                if cell.fill.start_color.index == 'FFD8D8D8' and cell.font.b == True \\\n",
    "                and cell.value != 0:  # check for gray color, bold font, and whether cell is filled (empty cells contain '0')\n",
    "                    staff.append(cell.value.title() + ' | ' + wb[ws].title)\n",
    "            \n",
    "print(f'Number of Staff minus casuals and guests: {len(staff)}\\n')\n",
    "\n",
    "# staff.sort()\n",
    "for c, sf in enumerate(staff):\n",
    "    print(c+1, sf)\n",
    "\n",
    "    \n",
    "staff_med_bills = set()\n",
    "for item in staff:\n",
    "    temp = item.split(' |')\n",
    "    staff_med_bills.add(temp[0])\n",
    "# len(staff_med_bills)\n",
    "# print(staff_med_bills)"
   ]
  },
  {
   "cell_type": "code",
   "execution_count": null,
   "metadata": {
    "scrolled": true
   },
   "outputs": [],
   "source": []
  },
  {
   "cell_type": "code",
   "execution_count": null,
   "metadata": {
    "scrolled": true
   },
   "outputs": [],
   "source": [
    "# Loop to fill all empty staff name cells with zero\n",
    "\n",
    "wb = openpyxl.load_workbook('MEDICAL BILLS 2020.xlsx')\n",
    "change_counter = 0\n",
    "\n",
    "for ws in wb.sheetnames:\n",
    "    for col in wb[ws].iter_cols(min_row=1, max_row=600, min_col=1, max_col=1):\n",
    "        for cell in col:\n",
    "            if cell.fill.start_color.index == 'FFD8D8D8' \\\n",
    "            and cell.value == None:  # check for gray color and empty cell\n",
    "                cell.value = 0\n",
    "                change_counter += 1\n",
    "\n",
    "print(f'{change_counter} instances changed.')\n",
    "wb.save('trial1.xlsx')"
   ]
  },
  {
   "cell_type": "markdown",
   "metadata": {
    "scrolled": true
   },
   "source": [
    "<h1><font color=\"red\">Warning!!</font></h1>"
   ]
  },
  {
   "cell_type": "code",
   "execution_count": null,
   "metadata": {},
   "outputs": [],
   "source": [
    "# Loop to fill ALL staff name cells with zero\n",
    "\n",
    "wb = openpyxl.load_workbook()\n",
    "change_counter = 0\n",
    "\n",
    "for ws in wb.sheetnames:\n",
    "    for col in wb[ws].iter_cols(min_row=1, max_row=600, min_col=1, max_col=1):\n",
    "        for cell in col:\n",
    "            if cell.fill.start_color.index == 'FFD8D8D8':  # check for gray color\n",
    "                cell.value = 0\n",
    "                change_counter += 1\n",
    "\n",
    "print(f'{change_counter} instances changed.')\n",
    "wb.save()\n"
   ]
  },
  {
   "cell_type": "code",
   "execution_count": null,
   "metadata": {},
   "outputs": [],
   "source": []
  },
  {
   "cell_type": "code",
   "execution_count": null,
   "metadata": {
    "scrolled": true
   },
   "outputs": [],
   "source": []
  },
  {
   "cell_type": "code",
   "execution_count": null,
   "metadata": {
    "scrolled": true
   },
   "outputs": [],
   "source": [
    "# Loop to reset all entries to zero [FOR NEW MED BILLS FILE]\n",
    "\n",
    "wb = openpyxl.load_workbook('custom_med_bills.xlsx')\n",
    "\n",
    "for ws in wb.sheetnames:\n",
    "    for rows in wb[ws].iter_rows(min_row=4, max_row=600, min_col=3, max_col=14):  # iterating through amount cells\n",
    "        for cells in rows:\n",
    "            if cells.fill.start_color.index == 'FFD99594' \\\n",
    "            and cells.font.b == False:  # check for red colour and no bold font\n",
    "                cells.value = 0\n",
    "    print(f'Done reseting all values in {wb[ws].title}')\n",
    "wb.save('custom_med_bills.xlsx')\n",
    "print('New spreadsheet saved!')"
   ]
  },
  {
   "cell_type": "code",
   "execution_count": null,
   "metadata": {},
   "outputs": [],
   "source": []
  },
  {
   "cell_type": "code",
   "execution_count": null,
   "metadata": {},
   "outputs": [],
   "source": [
    "# Function to get amount of a specific person in med bills file\n",
    "\n",
    "wb = openpyxl.load_workbook('test_med_bills_20.xlsx')\n",
    "ws = wb.active\n",
    "\n"
   ]
  },
  {
   "cell_type": "code",
   "execution_count": null,
   "metadata": {
    "scrolled": true
   },
   "outputs": [],
   "source": []
  },
  {
   "cell_type": "code",
   "execution_count": null,
   "metadata": {
    "scrolled": true
   },
   "outputs": [],
   "source": [
    "wb = openpyxl.load_workbook('trial1.xlsx')\n",
    "ws = wb['ACCOUNTS M B']"
   ]
  },
  {
   "cell_type": "code",
   "execution_count": null,
   "metadata": {
    "scrolled": true
   },
   "outputs": [],
   "source": [
    "print(type(ws['I14'].value))\n",
    "print(ws['I14'].value)"
   ]
  },
  {
   "cell_type": "code",
   "execution_count": null,
   "metadata": {
    "scrolled": true
   },
   "outputs": [],
   "source": [
    "print(type(ws['I4'].value))\n",
    "print(ws['I4'].value)  # ZEROS IN WORKSHEETS ARE integers"
   ]
  },
  {
   "cell_type": "code",
   "execution_count": null,
   "metadata": {
    "scrolled": true
   },
   "outputs": [],
   "source": []
  },
  {
   "cell_type": "markdown",
   "metadata": {},
   "source": [
    "<hr>"
   ]
  },
  {
   "cell_type": "markdown",
   "metadata": {},
   "source": [
    "<h1>STAFF LIST FUNCTIONS\n",
    "</h1>"
   ]
  },
  {
   "cell_type": "code",
   "execution_count": null,
   "metadata": {
    "scrolled": true
   },
   "outputs": [],
   "source": []
  },
  {
   "cell_type": "code",
   "execution_count": null,
   "metadata": {
    "scrolled": false
   },
   "outputs": [],
   "source": [
    "# Extracting all staff names from Staff List\n",
    "\n",
    "wb = openpyxl.load_workbook('test_staff_list.xlsx')\n",
    "sheet = wb['2020 STAFF LIST']\n",
    "staff_list = []\n",
    "\n",
    "for col in sheet.iter_cols(min_row=1, max_row=1000, min_col=1, max_col=1):\n",
    "    for cell in col:\n",
    "        if cell.value != None and cell.font.b is True and cell.font.i is False:\n",
    "#             print(cell.value.title())\n",
    "            staff_list.append(cell.value.title())\n",
    "\n",
    "print(f'Number of staff in Staff List: {len(staff_list)}\\n')\n",
    "\n",
    "staff_from_stafflist = set()\n",
    "for c, item in enumerate(staff_list):\n",
    "    staff_from_stafflist.add(item)\n",
    "#     print(c+1, item)\n",
    "\n",
    "# print(len(staff_from_stafflist))\n"
   ]
  },
  {
   "cell_type": "code",
   "execution_count": null,
   "metadata": {
    "scrolled": false
   },
   "outputs": [],
   "source": [
    "# Comparing Staff list names to names from Med Bills\n",
    "\n",
    "diff = list(staff_med_bills.symmetric_difference(staff_from_stafflist))\n",
    "print('Number of Permanent Staff in medical bills but not in Staff List: ' + str(len(diff))+'\\n')\n",
    "\n",
    "diff.sort()\n",
    "for item in diff:\n",
    "    print(item.title())"
   ]
  },
  {
   "cell_type": "code",
   "execution_count": null,
   "metadata": {
    "scrolled": true
   },
   "outputs": [],
   "source": [
    "# Extracting details of staff from Staff List\n",
    "\n",
    "staff_details = {}\n",
    "wb = openpyxl.load_workbook('test_staff_list.xlsx')\n",
    "sheet = wb['2020 STAFF LIST']\n",
    "\n",
    "# Optimized this function in actual app! It still runs fast here tho🤷\n",
    "for row in range(3, 701):  # ignoring header labels\n",
    "    for col in range(1, 5):  # 1st to 4th column\n",
    "        cell = sheet.cell(row=row, column=col)\n",
    "        staff_cell = sheet.cell(row=row, column=1)  # cell with staff name\n",
    "        \n",
    "        if col == 1 and cell.value != None and cell.font.b is True and cell.font.i is False: # staff name\n",
    "            backup_staff_cell = sheet.cell(row=row, column=1)\n",
    "            staff_details[cell.value] = []\n",
    "            \n",
    "        if col == 2 and cell.value != None:\n",
    "            staff_details[staff_cell.value].append(cell.value)\n",
    "            \n",
    "        if col == 3 and cell.value == None: # means no spouse\n",
    "            if staff_cell.value != None:  # there was a staff name in first cell\n",
    "                staff_details[staff_cell.value].append(None)\n",
    "            else:\n",
    "                continue\n",
    "                \n",
    "        if col == 3 and cell.value != None: # has a spouse\n",
    "            staff_details[staff_cell.value].append(cell.value)\n",
    "        \n",
    "        if col == 4 and cell.value == None: # doesn't have a child\n",
    "            if staff_cell.value != None:\n",
    "                staff_details[staff_cell.value].append(None)\n",
    "            else:\n",
    "                continue\n",
    "                \n",
    "        if col == 4 and cell.value != None: # has a child\n",
    "            if (staff_cell.value and sheet.cell(row=row, column=2) and sheet.cell(row=row, column=3)) is None:  # first 3 colmns are empty means multiple children\n",
    "                staff_details[backup_staff_cell.value].append(cell.value)\n",
    "            else:\n",
    "                staff_details[staff_cell.value].append(cell.value)\n",
    "                \n",
    "\n",
    "            \n",
    "\n",
    "for k, v in staff_details.items():\n",
    "    print(k, v)\n",
    "    pass\n",
    "# print(staff_details)\n",
    "# print(len(staff_details))\n",
    "# print(type(staff_details.keys()))\n",
    "            \n",
    "# for x in staff_details.keys():\n",
    "#     if 'ABIGAIL' in x:\n",
    "#         print(x)\n",
    "#         print(staff_details[x])\n",
    "    \n",
    "\n"
   ]
  },
  {
   "cell_type": "code",
   "execution_count": null,
   "metadata": {
    "scrolled": false
   },
   "outputs": [],
   "source": [
    " # Extracting Staff without child or spouse on record\n",
    "    \n",
    "for k,v in staff_details.items(): \n",
    "    if v[2] is None and v[1] is None:\n",
    "        print(k, v)\n",
    "        \n",
    "    "
   ]
  },
  {
   "cell_type": "code",
   "execution_count": null,
   "metadata": {},
   "outputs": [],
   "source": [
    "# Searching for name in either keys or values\n",
    "\n",
    "# search_person = 'COMFORT AGYIRI'\n",
    "search_person = 'CHRISTINE AGBANU'\n",
    "def search():\n",
    "    for key, value in staff_details.items():\n",
    "        if key == search_person:\n",
    "    #         print('found with key', (key, value))\n",
    "            return key, value\n",
    "        else:\n",
    "            for x in value:\n",
    "                if x == search_person:\n",
    "    #                 print('found with value', key, value)\n",
    "                    return key, value\n",
    "    \n",
    "s = search()\n",
    "print(s)\n",
    "print(len(s[1]))"
   ]
  },
  {
   "cell_type": "code",
   "execution_count": null,
   "metadata": {},
   "outputs": [],
   "source": []
  },
  {
   "cell_type": "code",
   "execution_count": null,
   "metadata": {},
   "outputs": [],
   "source": [
    "# Function to extract spouse and children names from Staff List\n",
    "\n",
    "wb = openpyxl.load_workbook('test_staff_list.xlsx')\n",
    "s_and_c_names = []\n",
    "\n",
    "for ws in wb.sheetnames:\n",
    "    for row in wb[ws].iter_rows(min_row=3, max_row=700, min_col=3, max_col=4):\n",
    "        for cell in row:\n",
    "            if cell.value != None and cell.value.isupper() is True:  # check for upper case letters and not empty cell\n",
    "                s_and_c_names.append(cell.value.title())\n",
    "\n",
    "print(f'There are {len(s_and_c_names)} dependants for staff.\\n')\n",
    "# for i in s_and_c_names:\n",
    "#     print(i)\n",
    "    \n",
    "people.extend(s_and_c_names)\n",
    "print(f'There are {len(people)} total people in record')\n",
    "\n",
    "for x in people:\n",
    "    print(x)"
   ]
  },
  {
   "cell_type": "code",
   "execution_count": null,
   "metadata": {},
   "outputs": [],
   "source": []
  },
  {
   "cell_type": "markdown",
   "metadata": {},
   "source": [
    "<hr>"
   ]
  },
  {
   "cell_type": "code",
   "execution_count": null,
   "metadata": {
    "scrolled": true
   },
   "outputs": [],
   "source": []
  },
  {
   "cell_type": "code",
   "execution_count": null,
   "metadata": {},
   "outputs": [],
   "source": [
    "from datetime import datetime"
   ]
  },
  {
   "cell_type": "code",
   "execution_count": null,
   "metadata": {},
   "outputs": [],
   "source": [
    "# Function to insert amount into a specific month's cell\n",
    "\n",
    "wb = openpyxl.load_workbook('test_med_bills_20.xlsx')\n",
    "staff = 'Festus Twumasi Ankrah'\n",
    "dependant = None\n",
    "\n",
    "# values here are the number of cells away from the staff name cell\n",
    "months = {'January': 2, 'February': 3, 'March': 4, 'April': 5, 'May': 6, 'June': 7, 'July': 8,\n",
    "          'August': 9, 'September': 10, 'October': 11, 'November': 12, 'December': 13}"
   ]
  },
  {
   "cell_type": "code",
   "execution_count": null,
   "metadata": {},
   "outputs": [],
   "source": [
    "print(list(months.keys()))"
   ]
  },
  {
   "cell_type": "code",
   "execution_count": null,
   "metadata": {
    "scrolled": true
   },
   "outputs": [],
   "source": [
    "# Todo: Maybe break it up into search function\n",
    "\n",
    "start = datetime.now()\n",
    "for ws in wb.sheetnames:\n",
    "    for col in wb[ws].iter_cols(min_row=1, max_row=700, min_col=1, max_col=1):\n",
    "        for cell in col:\n",
    "            if cell.fill.start_color.index == 'FFD8D8D8' and cell.font.b is True \\\n",
    "            and cell.value == staff: # check for gray cell, bold font and staff name\n",
    "                    print('Name:', cell.value, ',','Department:', wb[ws].title)\n",
    "#                     print(cell.row, cell.column)\n",
    "                    c = wb[ws].cell(row=cell.row, column=cell.column)\n",
    "#                     print(c.offset(row=0, column=3).value)\n",
    "\n",
    "                    # todo: check if value is 0 first then append '='\n",
    "                    if c.offset(row=0, column=3).value == 0:\n",
    "                        c.offset(row=0, column=3).value = '=' + '500'\n",
    "                    else:\n",
    "                        c.offset(row=0, column=3).value = str(c.offset(row=0, column=3).value) + '+' '500'\n",
    "\n",
    "stop = datetime.now()\n",
    "print('Elapsed time:', stop-start)\n",
    "\n",
    "\n",
    "\n",
    "\n",
    "\n",
    "wb.save('test_med_bills_20.xlsx')\n",
    "print('saved')\n"
   ]
  },
  {
   "cell_type": "markdown",
   "metadata": {},
   "source": []
  },
  {
   "cell_type": "code",
   "execution_count": null,
   "metadata": {},
   "outputs": [],
   "source": []
  },
  {
   "cell_type": "code",
   "execution_count": null,
   "metadata": {},
   "outputs": [],
   "source": []
  },
  {
   "cell_type": "code",
   "execution_count": null,
   "metadata": {},
   "outputs": [],
   "source": [
    "\n",
    "ic.disable()\n",
    "a = [1,2,3,4,5]\n",
    "ic('Outer')\n",
    "\n",
    "sum = 0\n",
    "for i in a:\n",
    "    ic.enable()\n",
    "    \n",
    "    sum+=i\n",
    "    ic('Inner')\n",
    "    ic.disable()\n",
    "    \n",
    "print(sum)\n",
    "ic('Done')\n",
    "    "
   ]
  },
  {
   "cell_type": "code",
   "execution_count": null,
   "metadata": {},
   "outputs": [],
   "source": [
    "def func(n):\n",
    "    n + 10\n",
    "    return True"
   ]
  }
 ],
 "metadata": {
  "kernelspec": {
   "display_name": "Python 3",
   "language": "python",
   "name": "python3"
  },
  "language_info": {
   "codemirror_mode": {
    "name": "ipython",
    "version": 3
   },
   "file_extension": ".py",
   "mimetype": "text/x-python",
   "name": "python",
   "nbconvert_exporter": "python",
   "pygments_lexer": "ipython3",
   "version": "3.8.3"
  }
 },
 "nbformat": 4,
 "nbformat_minor": 4
}
