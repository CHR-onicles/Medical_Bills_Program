{
 "cells": [
  {
   "cell_type": "code",
   "execution_count": 1,
   "metadata": {
    "scrolled": true
   },
   "outputs": [],
   "source": [
    "import os\n",
    "import openpyxl\n",
    "from openpyxl.styles import colors,PatternFill\n",
    "from icecream import ic"
   ]
  },
  {
   "cell_type": "code",
   "execution_count": null,
   "metadata": {
    "scrolled": true
   },
   "outputs": [],
   "source": [
    "# TODO:\n",
    "\n",
    "# Add validation to cells in code (possibly later)\n",
    "# Add statistics of 'slots' in code(total name slots, occupied, available)"
   ]
  },
  {
   "cell_type": "code",
   "execution_count": 2,
   "metadata": {
    "scrolled": true
   },
   "outputs": [],
   "source": [
    "os.chdir('B:/Desktop/med bills test/')"
   ]
  },
  {
   "cell_type": "code",
   "execution_count": 3,
   "metadata": {
    "scrolled": true
   },
   "outputs": [
    {
     "data": {
      "text/plain": [
       "'B:\\\\Desktop\\\\med bills test'"
      ]
     },
     "execution_count": 3,
     "metadata": {},
     "output_type": "execute_result"
    }
   ],
   "source": [
    "os.getcwd()"
   ]
  },
  {
   "cell_type": "code",
   "execution_count": 4,
   "metadata": {
    "scrolled": true
   },
   "outputs": [
    {
     "data": {
      "text/plain": [
       "['MEDICAL BILLS 2020.xlsx',\n",
       " 'STAFF_Dependant LIST 2020.xlsx',\n",
       " 'trial1.xlsx',\n",
       " '~$trial1.xlsx']"
      ]
     },
     "execution_count": 4,
     "metadata": {},
     "output_type": "execute_result"
    }
   ],
   "source": [
    "os.listdir()"
   ]
  },
  {
   "cell_type": "code",
   "execution_count": null,
   "metadata": {
    "scrolled": true
   },
   "outputs": [],
   "source": [
    "Colors = colors.COLOR_INDEX"
   ]
  },
  {
   "cell_type": "code",
   "execution_count": null,
   "metadata": {
    "scrolled": true
   },
   "outputs": [],
   "source": [
    "# Colors"
   ]
  },
  {
   "cell_type": "code",
   "execution_count": null,
   "metadata": {
    "scrolled": true
   },
   "outputs": [],
   "source": [
    "wb = openpyxl.load_workbook('MEDICAL BILLS 2020.xlsx')\n",
    "wb.sheetnames"
   ]
  },
  {
   "cell_type": "markdown",
   "metadata": {},
   "source": [
    "<H1> MED BILLS FUNCTIONS\n",
    "</H1>"
   ]
  },
  {
   "cell_type": "code",
   "execution_count": null,
   "metadata": {
    "scrolled": true
   },
   "outputs": [],
   "source": [
    "# loop for Names and Number of Staff in Staff Names Column for specific sheets\n",
    "\n",
    "wb = openpyxl.load_workbook('trial1.xlsx')\n",
    "sheet = wb['KITCHEN M B']\n",
    "slot_counter = 0\n",
    "\n",
    "for i in range(1,500):\n",
    "    cell = sheet.cell(row=i, column=1)\n",
    "    if cell.fill.start_color.index == 'FFD8D8D8' \\\n",
    "    and cell.font.b == True:                       # check for gray cell and bold font\n",
    "        print(cell.value)\n",
    "        slot_counter += 1\n",
    "        \n",
    "print(f'\\nThere are {slot_counter} slots in {sheet.title}')"
   ]
  },
  {
   "cell_type": "code",
   "execution_count": null,
   "metadata": {},
   "outputs": [],
   "source": []
  },
  {
   "cell_type": "code",
   "execution_count": 73,
   "metadata": {},
   "outputs": [
    {
     "name": "stdout",
     "output_type": "stream",
     "text": [
      "Number of all people in Med Bills: 232\n",
      "\n",
      "1 Nana Yaw Ampofo | ACCOUNTS M B\n",
      "2 Douglas Asiedu | ACCOUNTS M B\n",
      "3 Ernest Kaguah | ACCOUNTS M B\n",
      "4 Festus Twumasi Ankrah | ACCOUNTS M B\n",
      "5 Emmanuel Animley | ACCOUNTS M B\n",
      "6 Vincent Kotey | ACCOUNTS M B\n",
      "7 George Brobbey | ACCOUNTS M B\n",
      "8 Dorcas Owusu | ACCOUNTS M B\n",
      "9 William Okyere | ACCOUNTS M B\n",
      "10 Ibrahim Abdallah | ACCOUNTS M B\n",
      "11 Richard Dzidzornu | ACCOUNTS M B\n",
      "12 Alex Odoom | ACCOUNTS M B\n",
      "13 Abigail Armah | ACCOUNTS M B\n",
      "14 Alfred Opoku Agyepong | ACCOUNTS M B\n",
      "15 Richard Tawiah | ACCOUNTS M B\n",
      "16 Atta Osei Buabeng | ACCOUNTS M B\n",
      "17 Rene Vincent-Ernest | ADMINISTRATION M B\n",
      "18 Olivia Tetteh Bimpeh | ADMINISTRATION M B\n",
      "19 Gloria Orleans-Mends | ADMINISTRATION M B\n",
      "20 Abigail Akpene Abutiate | ADMINISTRATION M B\n",
      "21 Priscilla Anang | ADMINISTRATION M B\n",
      "22 Susana Setsoafia | ADMINISTRATION M B\n",
      "23 Agathar Barnie | CASUALS M B\n",
      "24 Justice Baidoo | CASUALS M B\n",
      "25 Jonas Adjei | CASUALS M B\n",
      "26 Aright Amoh | CASUALS M B\n",
      "27 Grace Okai | CASUALS M B\n",
      "28 Bless C. Abilly | CASUALS M B\n",
      "29 Rebecca Bamembaya\n",
      " | CASUALS M B\n",
      "30 Richard Mensah | CASUALS M B\n",
      "31 Eunice Addy | CASUALS M B\n",
      "32 Martha Indoom | CASUALS M B\n",
      "33 Joyce Akomfodze | CASUALS M B\n",
      "34 Emmanuel Adjetey | CASUALS M B\n",
      "35 Vida Sowah | CASUALS M B\n",
      "36 Ebenezer Nortey | CASUALS M B\n",
      "37 Emmanuel Boateng | CASUALS M B\n",
      "38 Esther Afari | CASUALS M B\n",
      "39 Juliet Darkwah | CASUALS M B\n",
      "40 Emmanuel Simson | CASUALS M B\n",
      "41 Rebecca Asenso | CASUALS M B\n",
      "42 Matilda Okyerebea | CASUALS M B\n",
      "43 Linda Akuetteh | CASUALS M B\n",
      "44 Kenneth Obeng | CASUALS M B\n",
      "45 Kennedy Kidiiga | F&B M B\n",
      "46 Ekua Zara Awonana Ghartey | F&B M B\n",
      "47 Francis Dogbey | F&B M B\n",
      "48 Darryl Oboshi Schandorf | F&B M B\n",
      "49 Linda Pokoo-Aikins | F&B M B\n",
      "50 Mavis Adutwumwaa-Opoku | F&B M B\n",
      "51 Abigail Mensa | F&B M B\n",
      "52 Josephine Ewusie | F&B M B\n",
      "53 Franklin Dowuona | F&B M B\n",
      "54 Daniel Laryea | F&B M B\n",
      "55 Eric Adjetey Adjei | F&B M B\n",
      "56 Abraham Mensah | F&B M B\n",
      "57 Salomey Nortey | F&B M B\n",
      "58 Mercy Beeko | F&B M B\n",
      "59 Rampson Agbenyo | F&B M B\n",
      "60 Hosea Liverpool | F&B M B\n",
      "61 Cecilia Tagoe | F&B M B\n",
      "62 Moses Ashirifie Quashie | F&B M B\n",
      "63 Samuel Obeng Saforo | F&B M B\n",
      "64 Dominic La-Aoni | F&B M B\n",
      "65 Daniel Tetteh | F&B M B\n",
      "66 David Gagakuma | F&B M B\n",
      "67 Samuel Opuni Mensah | F&B M B\n",
      "68 Ishmael Dodoo | F&B M B\n",
      "69 Theodora Allotey | F&B M B\n",
      "70 Michael Kwabena Oppong | F&B M B\n",
      "71 Janet De-Heer | FOREX M B\n",
      "72 Catherine Hannah-Ricketts | GUESTS M B\n",
      "73 Bernard Appah Wiafe | GUESTS M B\n",
      "74 Bob Ndar | GUESTS M B\n",
      "75 Anne Rita Solano | GUESTS M B\n",
      "76 Kimanzi Chris | GUESTS M B\n",
      "77 Lorna Orina | GUESTS M B\n",
      "78 Irene Ofori-Teiko | HOUSE DEPT M B\n",
      "79 William Ahinakwah | HOUSE DEPT M B\n",
      "80 Isaac Nii Amon Neequaye | HOUSE DEPT M B\n",
      "81 Perry S. Abrokwah | HOUSE DEPT M B\n",
      "82 Martin Osei Ntim | HOUSE DEPT M B\n",
      "83 Theresa Adzaho Sowah | HOUSE DEPT M B\n",
      "84 Philip Adu-Mensah | HOUSE DEPT M B\n",
      "85 Emmanuel Dartey | HOUSE DEPT M B\n",
      "86 Evelyn Amoah | HOUSE DEPT M B\n",
      "87 Eunice Mensah | HOUSE DEPT M B\n",
      "88 Patricia Agbenowosi | HOUSE DEPT M B\n",
      "89 Victor Buachie Glantey | HOUSE DEPT M B\n",
      "90 Clement Atiadze | HOUSE DEPT M B\n",
      "91 Peter K. Appah | HOUSE DEPT M B\n",
      "92 Bashiru Abdallah | HOUSE DEPT M B\n",
      "93 John Amoah | HOUSE DEPT M B\n",
      "94 Eric Dery Tienuku | HOUSE DEPT M B\n",
      "95 Emmanuel Larbi | HOUSE DEPT M B\n",
      "96 Eunice Kpor | HOUSE DEPT M B\n",
      "97 Gifty Fiadjoe | HOUSE DEPT M B\n",
      "98 Solomon Annang | HOUSE DEPT M B\n",
      "99 Florence Bannor | HOUSE DEPT M B\n",
      "100 Julius Lartey | HOUSE DEPT M B\n",
      "101 Thelma Quayegah | HOUSE DEPT M B\n",
      "102 Esi Bharati Kinnah | HOUSE DEPT M B\n",
      "103 Annabel Asamoah Menyisse | HOUSEKEEPING M B\n",
      "104 Millicent Danquah | HOUSEKEEPING M B\n",
      "105 Mary Nyadu | HOUSEKEEPING M B\n",
      "106 Happy Agbati | HOUSEKEEPING M B\n",
      "107 Grace Afrah | HOUSEKEEPING M B\n",
      "108 Faustina Quarm | HOUSEKEEPING M B\n",
      "109 Doris Agbovi | HOUSEKEEPING M B\n",
      "110 Frances Fynn | HOUSEKEEPING M B\n",
      "111 Lorrinda Quarshie | HOUSEKEEPING M B\n",
      "112 Regina Quaye | HOUSEKEEPING M B\n",
      "113 Joyce Agbemadzi | HOUSEKEEPING M B\n",
      "114 Belinda Kpordjie | HOUSEKEEPING M B\n",
      "115 Salomey Adoley Pappoe | HOUSEKEEPING M B\n",
      "116 Freda Odonkor | HOUSEKEEPING M B\n",
      "117 Caroline Armah | HOUSEKEEPING M B\n",
      "118 Cynthia Ahia | HOUSEKEEPING M B\n",
      "119 Rominus Amoah | HOUSEKEEPING M B\n",
      "120 David Marmah Botchway | HOUSEKEEPING M B\n",
      "121 Isaac Mensah | HOUSEKEEPING M B\n",
      "122 Abraham Donkor | HOUSEKEEPING M B\n",
      "123 Isaac Yaw Mensah | HOUSEKEEPING M B\n",
      "124 Jacob T. Lartey | HOUSEKEEPING M B\n",
      "125 Gary Lane | KITCHEN M B\n",
      "126 Cecilia Kegay | KITCHEN M B\n",
      "127 Christopher Kansis | KITCHEN M B\n",
      "128 Samuel Lamptey Odartey | KITCHEN M B\n",
      "129 Akwetey Ahingwah | KITCHEN M B\n",
      "130 Esther Nsiah | KITCHEN M B\n",
      "131 Charles Momor Tetteh | KITCHEN M B\n",
      "132 George Nyarko | KITCHEN M B\n",
      "133 Christine Agbanu | KITCHEN M B\n",
      "134 Patricia Amarh | KITCHEN M B\n",
      "135 Daniel Amoah | KITCHEN M B\n",
      "136 Faustina Akoi-Larbi | KITCHEN M B\n",
      "137 Angela Megbenu | KITCHEN M B\n",
      "138 Ivy Amoh | KITCHEN M B\n",
      "139 Joana Nyarko | KITCHEN M B\n",
      "140 Mabel Adumang | KITCHEN M B\n",
      "141 Ebenezer Nii Nai Larsey | KITCHEN M B\n",
      "142 Jonathan Coffie | KITCHEN M B\n",
      "143 Caroline Larsey | KITCHEN M B\n",
      "144 Angela Akuffo | KITCHEN M B\n",
      "145 Josephine Asumang | KITCHEN M B\n",
      "146 Mercy Annang Agyepong | KITCHEN M B\n",
      "147 Evelyn Adjetey | KITCHEN M B\n",
      "148 Regina Oblim | KITCHEN M B\n",
      "149 Regina Mensah | KITCHEN M B\n",
      "150 Michael Kodzo-Gbor | KITCHEN M B\n",
      "151 Robert Nketiah Mensah | KITCHEN M B\n",
      "152 Lydia Oninku | KITCHEN M B\n",
      "153 Janet Anim | KITCHEN M B\n",
      "154 Benedicta Larbi | KITCHEN M B\n",
      "155 Richard Tetteh | KITCHEN M B\n",
      "156 Richard Mintah | KITCHEN M B\n",
      "157 Vincent M. Nyawuame | KITCHEN M B\n",
      "158 Prudence Attipoe | KITCHEN M B\n",
      "159 Simon Azumah Martey-Korley | KITCHEN M B\n",
      "160 Isaac Aboagye-Okyere | KITCHEN M B\n",
      "161 Michael Awuah | KITCHEN M B\n",
      "162 Samuel Abeka Gogo | KITCHEN M B\n",
      "163 Cassandra M. Cubagee | KITCHEN M B\n",
      "164 Jessica Jochebed Mante | KITCHEN M B\n",
      "165 Sampson Awumi | KITCHEN M B\n",
      "166 Naomi Ashitey Amarh | KITCHEN M B\n",
      "167 Irene Abaah | KITCHEN M B\n",
      "168 Valentine Aleh | KITCHEN M B\n",
      "169 Charity Comieter | KITCHEN M B\n",
      "170 Joseph Dodoo | LAUNDRY M B\n",
      "171 Solomon Aidoo | LAUNDRY M B\n",
      "172 Emmanuel Aferdi | LAUNDRY M B\n",
      "173 Anthony Senade | LAUNDRY M B\n",
      "174 Samuel Yeboah | LAUNDRY M B\n",
      "175 Ashitey Trebie | LAUNDRY M B\n",
      "176 John Ablorh Anum | LAUNDRY M B\n",
      "177 Isaac Ashie Amon | LAUNDRY M B\n",
      "178 Joseph Martey Laryea | LAUNDRY M B\n",
      "179 Moses Mensah Larsey | LAUNDRY M B\n",
      "180 Killian Afedoh | LAUNDRY M B\n",
      "181 Vinolia Agbezuge | LAUNDRY M B\n",
      "182 Martha Kwatiah | LAUNDRY M B\n",
      "183 Evans Adzaho | MAINTENANCE M B\n",
      "184 Paul Adzaho | MAINTENANCE M B\n",
      "185 Bernard Ahelegbeh | MAINTENANCE M B\n",
      "186 Paul Yevugah | MAINTENANCE M B\n",
      "187 Robert Sowah Nai | MAINTENANCE M B\n",
      "188 Joseph Adjetey Anang | MAINTENANCE M B\n",
      "189 Prosper Assan | MAINTENANCE M B\n",
      "190 Alhaji Abdallah Seidu | MAINTENANCE M B\n",
      "191 Desmond O. Kpokli-Tswasam | MAINTENANCE M B\n",
      "192 Dickson Agbodza | MAINTENANCE M B\n",
      "193 Frank Ashitey | MAINTENANCE M B\n",
      "194 Abraham Ashitey | MAINTENANCE M B\n",
      "195 Emmanuel Martei Korley | MAINTENANCE M B\n",
      "196 Fraser Yao Fiagbadu | MAINTENANCE M B\n",
      "197 Yaw Asamoah | MAINTENANCE M B\n",
      "198 Samuel Lamptey Odatei | MAINTENANCE M B\n",
      "199 Fred Opoku | MAINTENANCE M B\n",
      "200 David Eduaful | SALES M B\n",
      "201 George Ayisi | SALES M B\n",
      "202 Kenneth Apasu | SALES M B\n",
      "203 Patience Aidoo | SALES M B\n",
      "204 Phoebe Odoom | SALES M B\n",
      "205 Vincent Micah | SECURITY M B\n",
      "206 Abdul-Rashid Suleman | SECURITY M B\n",
      "207 James Brown Nkudede | SECURITY M B\n",
      "208 Rockson Duho | SECURITY M B\n",
      "209 Akwasi Yeboah Acheampong | SECURITY M B\n",
      "210 Charles Ofori Yeboah | SECURITY M B\n",
      "211 Ernest Apenteng | SECURITY M B\n",
      "212 Albert Larbi | SECURITY M B\n",
      "213 William Ametepe | SECURITY M B\n",
      "214 Nana Yaw Obuobi | SECURITY M B\n",
      "215 Michael Annang | SECURITY M B\n",
      "216 Richmond Adjetey Adjei | SECURITY M B\n",
      "217 Charles Bosomtwi Dugan | SECURITY M B\n",
      "218 Clifford Elvis Hesse | SECURITY M B\n",
      "219 Paul Katernor | SECURITY M B\n",
      "220 Emmanuel Appiah | SECURITY M B\n",
      "221 Clement Yaw Micah | SECURITY M B\n",
      "222 Abena Antwiwaa Adom | SPA M B\n",
      "223 Dora Annobil | SPA M B\n",
      "224 Catherine Dadzie-Mensah | SPA M B\n",
      "225 Agnes Nai | SPA M B\n",
      "226 Jacqueline Oduro | SPA M B\n",
      "227 Godfred Gyebi | STORES M B\n",
      "228 Emmanuel Asare Sakyi | STORES M B\n",
      "229 Solomon Doku | STORES M B\n",
      "230 Martin Asimeng | STORES M B\n",
      "231 Anani Tsagli | STORES M B\n",
      "232 Nathaniel Yaw Kwofie | STORES M B\n"
     ]
    },
    {
     "data": {
      "text/plain": [
       "232"
      ]
     },
     "execution_count": 73,
     "metadata": {},
     "output_type": "execute_result"
    }
   ],
   "source": [
    "# Loop to extract ALL names in med bill\n",
    "\n",
    "wb = openpyxl.load_workbook('test_med_bills_20.xlsx')\n",
    "# print(wb.sheetnames)\n",
    "people = []\n",
    "\n",
    "for ws in wb.sheetnames:\n",
    "        for col in wb[ws].iter_cols(min_row=1, max_row=700, min_col=1, max_col=1):\n",
    "            for cell in col:\n",
    "                if cell.fill.start_color.index == 'FFD8D8D8' and cell.font.b == True \\\n",
    "                and cell.value != 0:  # check for gray color, bold font, and whether cell is filled (not containing '0')\n",
    "                    people.append(cell.value.title() + ' | ' + wb[ws].title)\n",
    "            \n",
    "print(f'Number of all people in Med Bills: {len(people)}\\n')\n",
    "\n",
    "# staff.sort()\n",
    "for c, sf in enumerate(people):\n",
    "    print(c+1, sf)\n",
    "    \n",
    "# s = set(people)\n",
    "# len(s)\n"
   ]
  },
  {
   "cell_type": "code",
   "execution_count": null,
   "metadata": {
    "scrolled": true
   },
   "outputs": [],
   "source": []
  },
  {
   "cell_type": "code",
   "execution_count": null,
   "metadata": {
    "scrolled": false
   },
   "outputs": [],
   "source": [
    "# Loop for Total Number of Staff and Names minus Casuals and Guests\n",
    "\n",
    "wb = openpyxl.load_workbook('MEDICAL BILLS 2020.xlsx')\n",
    "# print(wb.sheetnames)\n",
    "staff = []\n",
    "\n",
    "for ws in wb.sheetnames:\n",
    "    if 'CASUALS' not in wb[ws].title and 'GUESTS' not in wb[ws].title:\n",
    "#         ic(wb[ws].title)\n",
    "        for col in wb[ws].iter_cols(min_row=1, max_row=700, min_col=1, max_col=1):\n",
    "            for cell in col:\n",
    "                if cell.fill.start_color.index == 'FFD8D8D8' and cell.font.b == True \\\n",
    "                and cell.value != 0:  # check for gray color, bold font, and whether cell is filled (empty cells contain '0')\n",
    "                    staff.append(cell.value.title() + ' | ' + wb[ws].title)\n",
    "            \n",
    "print(f'Number of Staff minus casuals and guests: {len(staff)}\\n')\n",
    "\n",
    "# staff.sort()\n",
    "for c, sf in enumerate(staff):\n",
    "    print(c+1, sf)\n",
    "\n",
    "    \n",
    "staff_med_bills = set()\n",
    "for item in staff:\n",
    "    temp = item.split(' |')\n",
    "    staff_med_bills.add(temp[0])\n",
    "# len(staff_med_bills)\n",
    "# print(staff_med_bills)"
   ]
  },
  {
   "cell_type": "code",
   "execution_count": null,
   "metadata": {
    "scrolled": true
   },
   "outputs": [],
   "source": []
  },
  {
   "cell_type": "code",
   "execution_count": null,
   "metadata": {
    "scrolled": true
   },
   "outputs": [],
   "source": [
    "# Loop to fill all empty staff name cells with zero\n",
    "\n",
    "wb = openpyxl.load_workbook('MEDICAL BILLS 2020.xlsx')\n",
    "change_counter = 0\n",
    "\n",
    "for ws in wb.sheetnames:\n",
    "    for col in wb[ws].iter_cols(min_row=1, max_row=600, min_col=1, max_col=1):\n",
    "        for cell in col:\n",
    "            if cell.fill.start_color.index == 'FFD8D8D8' \\\n",
    "            and cell.value == None:  # check for gray color and empty cell\n",
    "                cell.value = 0\n",
    "                change_counter += 1\n",
    "\n",
    "print(f'{change_counter} instances changed.')\n",
    "wb.save('trial1.xlsx')"
   ]
  },
  {
   "cell_type": "code",
   "execution_count": null,
   "metadata": {
    "scrolled": true
   },
   "outputs": [],
   "source": []
  },
  {
   "cell_type": "code",
   "execution_count": null,
   "metadata": {
    "scrolled": true
   },
   "outputs": [],
   "source": []
  },
  {
   "cell_type": "code",
   "execution_count": null,
   "metadata": {
    "scrolled": true
   },
   "outputs": [],
   "source": [
    "# Loop to reset all entries to zero [FOR NEW MED BILLS FILE]\n",
    "\n",
    "wb = openpyxl.load_workbook('MEDICAL BILLS 2020.xlsx')\n",
    "\n",
    "for ws in wb.sheetnames:\n",
    "    for rows in wb[ws].iter_rows(min_row=4, max_row=600, min_col=3, max_col=14):  # iterating through amount cells\n",
    "        for cells in rows:\n",
    "            if cells.fill.start_color.index == 'FFD99594' \\\n",
    "            and cells.font.b == False:  # check for red colour and no bold font\n",
    "                cells.value = 0\n",
    "    print(f'Done reseting all values in {wb[ws].title}')\n",
    "wb.save('fresh med bills.xlsx')\n",
    "print('New spreadsheet saved!')"
   ]
  },
  {
   "cell_type": "code",
   "execution_count": null,
   "metadata": {
    "scrolled": true
   },
   "outputs": [],
   "source": []
  },
  {
   "cell_type": "code",
   "execution_count": null,
   "metadata": {
    "scrolled": true
   },
   "outputs": [],
   "source": [
    "wb = openpyxl.load_workbook('trial1.xlsx')\n",
    "ws = wb['ACCOUNTS M B']"
   ]
  },
  {
   "cell_type": "code",
   "execution_count": null,
   "metadata": {
    "scrolled": true
   },
   "outputs": [],
   "source": [
    "print(type(ws['I14'].value))\n",
    "print(ws['I14'].value)"
   ]
  },
  {
   "cell_type": "code",
   "execution_count": null,
   "metadata": {
    "scrolled": true
   },
   "outputs": [],
   "source": [
    "print(type(ws['I4'].value))\n",
    "print(ws['I4'].value)  # ZEROS IN WORKSHEETS ARE integers"
   ]
  },
  {
   "cell_type": "code",
   "execution_count": null,
   "metadata": {
    "scrolled": true
   },
   "outputs": [],
   "source": []
  },
  {
   "cell_type": "markdown",
   "metadata": {},
   "source": [
    "<hr>"
   ]
  },
  {
   "cell_type": "markdown",
   "metadata": {},
   "source": [
    "<h1>STAFF LIST FUNCTIONS\n",
    "</h1>"
   ]
  },
  {
   "cell_type": "code",
   "execution_count": null,
   "metadata": {
    "scrolled": true
   },
   "outputs": [],
   "source": []
  },
  {
   "cell_type": "code",
   "execution_count": null,
   "metadata": {
    "scrolled": false
   },
   "outputs": [],
   "source": [
    "# Extracting all staff names from Staff List\n",
    "\n",
    "wb = openpyxl.load_workbook('STAFF_Dependant LIST 2020.xlsx')\n",
    "sheet = wb['2020 STAFF LIST']\n",
    "staff_list = []\n",
    "\n",
    "for col in sheet.iter_cols(min_row=1, max_row=1000, min_col=1, max_col=1):\n",
    "    for cell in col:\n",
    "        if cell.value != None and cell.font.b is True and cell.font.i is False:\n",
    "#             print(cell.value.title())\n",
    "            staff_list.append(cell.value.title())\n",
    "\n",
    "print(f'Number of staff in Staff List: {len(staff_list)}\\n')\n",
    "\n",
    "staff_from_stafflist = set()\n",
    "for c, item in enumerate(staff_list):\n",
    "    staff_from_stafflist.add(item)\n",
    "#     print(c+1, item)\n",
    "\n",
    "# print(len(staff_from_stafflist))\n"
   ]
  },
  {
   "cell_type": "code",
   "execution_count": null,
   "metadata": {
    "scrolled": false
   },
   "outputs": [],
   "source": [
    "# Comparing Staff list names to names from Med Bills\n",
    "\n",
    "diff = list(staff_med_bills.symmetric_difference(staff_from_stafflist))\n",
    "print('Number of Permanent Staff in medical bills but not in Staff List: ' + str(len(diff))+'\\n')\n",
    "\n",
    "diff.sort()\n",
    "for item in diff:\n",
    "    print(item.title())"
   ]
  },
  {
   "cell_type": "code",
   "execution_count": null,
   "metadata": {
    "scrolled": false
   },
   "outputs": [],
   "source": [
    "# Extracting details of staff from Staff List\n",
    "\n",
    "staff_details = {}\n",
    "wb = openpyxl.load_workbook('STAFF_Dependant LIST 2020.xlsx')\n",
    "sheet = wb['2020 STAFF LIST']\n",
    "\n",
    "for row in range(3, 701):  # ignoring header labels\n",
    "    for col in range(1, 5):  # 1st to 4th column\n",
    "        cell = sheet.cell(row=row, column=col)\n",
    "        staff_cell = sheet.cell(row=row, column=1)  # cell with staff name\n",
    "        \n",
    "        if col == 1 and cell.value != None and cell.font.b is True and cell.font.i is False: # staff name\n",
    "            backup_staff_cell = sheet.cell(row=row, column=1)\n",
    "            staff_details[cell.value] = []\n",
    "            \n",
    "        if col == 2 and cell.value != None:\n",
    "            staff_details[staff_cell.value].append(cell.value)\n",
    "            \n",
    "        if col == 3 and cell.value == None: # means no spouse\n",
    "            if staff_cell.value != None:  # there was a staff name in first cell\n",
    "                staff_details[staff_cell.value].append(None)\n",
    "            else:\n",
    "                continue\n",
    "                \n",
    "        if col == 3 and cell.value != None: # has a spouse\n",
    "            staff_details[staff_cell.value].append(cell.value)\n",
    "        \n",
    "        if col == 4 and cell.value == None: # doesn't have a child\n",
    "            if staff_cell.value != None:\n",
    "                staff_details[staff_cell.value].append(None)\n",
    "            else:\n",
    "                continue\n",
    "                \n",
    "        if col == 4 and cell.value != None: # has a child\n",
    "            if (staff_cell.value and sheet.cell(row=row, column=2) and sheet.cell(row=row, column=3)) is None:  # first 3 colmns are empty means multiple children\n",
    "                staff_details[backup_staff_cell.value].append(cell.value)\n",
    "            else:\n",
    "                staff_details[staff_cell.value].append(cell.value)\n",
    "                \n",
    "\n",
    "            \n",
    "\n",
    "for k, v in staff_details.items():\n",
    "#     print(k,'->', v)\n",
    "    pass\n",
    "# print(staff_details)\n",
    "print(len(staff_details))\n",
    "            \n",
    "for x in staff_details.keys():\n",
    "    if 'ABIGAIL' in x:\n",
    "        print(x)\n",
    "        print(staff_details[x])\n",
    "    \n",
    "\n"
   ]
  },
  {
   "cell_type": "code",
   "execution_count": null,
   "metadata": {
    "scrolled": false
   },
   "outputs": [],
   "source": [
    "for k,v in staff_details.items():  # Staff without child of spouse on record\n",
    "    if v[2] is None and v[1] is None:\n",
    "        print(k, v)\n",
    "        \n",
    "    "
   ]
  },
  {
   "cell_type": "markdown",
   "metadata": {},
   "source": [
    "<hr>"
   ]
  },
  {
   "cell_type": "code",
   "execution_count": null,
   "metadata": {
    "scrolled": true
   },
   "outputs": [],
   "source": []
  },
  {
   "cell_type": "code",
   "execution_count": 5,
   "metadata": {},
   "outputs": [],
   "source": [
    "from datetime import datetime"
   ]
  },
  {
   "cell_type": "code",
   "execution_count": 66,
   "metadata": {},
   "outputs": [],
   "source": [
    "# Function to insert amount into a specific month's cell\n",
    "\n",
    "wb = openpyxl.load_workbook('test_med_bills_20.xlsx')\n",
    "staff = 'Festus Twumasi Ankrah'\n",
    "dependant = None\n",
    "\n",
    "# values here are the number of cells away from the staff name cell\n",
    "months = {'January': 2, 'February': 3, 'March': 4, 'April': 5, 'May': 6, 'June': 7, 'July': 8,\n",
    "          'August': 9, 'September': 10, 'October': 11, 'November': 12, 'December': 13}"
   ]
  },
  {
   "cell_type": "code",
   "execution_count": 69,
   "metadata": {
    "scrolled": true
   },
   "outputs": [
    {
     "name": "stdout",
     "output_type": "stream",
     "text": [
      "Name: Festus Twumasi Ankrah , Department: ACCOUNTS M B\n",
      "Elapsed time: 0:00:00.046912\n",
      "saved\n"
     ]
    }
   ],
   "source": [
    "# Todo: Maybe break it up into search function\n",
    "\n",
    "start = datetime.now()\n",
    "for ws in wb.sheetnames:\n",
    "    for col in wb[ws].iter_cols(min_row=1, max_row=700, min_col=1, max_col=1):\n",
    "        for cell in col:\n",
    "            if cell.fill.start_color.index == 'FFD8D8D8' and cell.font.b is True \\\n",
    "            and cell.value == staff: # check for gray cell, bold font and staff name\n",
    "                    print('Name:', cell.value, ',','Department:', wb[ws].title)\n",
    "#                     print(cell.row, cell.column)\n",
    "                    c = wb[ws].cell(row=cell.row, column=cell.column)\n",
    "#                     print(c.offset(row=0, column=3).value)\n",
    "\n",
    "                    # todo: check if value is 0 first then append '='\n",
    "                    if c.offset(row=0, column=3).value == 0:\n",
    "                        c.offset(row=0, column=3).value = '=' + '500'\n",
    "                    else:\n",
    "                        c.offset(row=0, column=3).value = str(c.offset(row=0, column=3).value) + '+' '500'\n",
    "\n",
    "stop = datetime.now()\n",
    "print('Elapsed time:', stop-start)\n",
    "\n",
    "\n",
    "\n",
    "\n",
    "\n",
    "wb.save('test_med_bills_20.xlsx')\n",
    "print('saved')\n"
   ]
  },
  {
   "cell_type": "markdown",
   "metadata": {},
   "source": []
  },
  {
   "cell_type": "code",
   "execution_count": null,
   "metadata": {},
   "outputs": [],
   "source": []
  }
 ],
 "metadata": {
  "kernelspec": {
   "display_name": "Python 3",
   "language": "python",
   "name": "python3"
  },
  "language_info": {
   "codemirror_mode": {
    "name": "ipython",
    "version": 3
   },
   "file_extension": ".py",
   "mimetype": "text/x-python",
   "name": "python",
   "nbconvert_exporter": "python",
   "pygments_lexer": "ipython3",
   "version": "3.8.3"
  }
 },
 "nbformat": 4,
 "nbformat_minor": 4
}
