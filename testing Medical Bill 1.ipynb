{
 "cells": [
  {
   "cell_type": "code",
   "execution_count": 1,
   "metadata": {},
   "outputs": [],
   "source": [
    "import os\n",
    "import openpyxl\n",
    "from openpyxl.styles import colors,PatternFill\n",
    "from icecream import ic"
   ]
  },
  {
   "cell_type": "code",
   "execution_count": null,
   "metadata": {},
   "outputs": [],
   "source": [
    "# TODO:\n",
    "\n",
    "# Add validation to cells in code (possibly later)\n",
    "# Add statistics of 'slots' in code(total name slots, occupied, available)"
   ]
  },
  {
   "cell_type": "code",
   "execution_count": 2,
   "metadata": {},
   "outputs": [],
   "source": [
    "os.chdir('B:/Desktop/med bills test/')"
   ]
  },
  {
   "cell_type": "code",
   "execution_count": 3,
   "metadata": {},
   "outputs": [
    {
     "data": {
      "text/plain": [
       "'B:\\\\Desktop\\\\med bills test'"
      ]
     },
     "execution_count": 3,
     "metadata": {},
     "output_type": "execute_result"
    }
   ],
   "source": [
    "os.getcwd()"
   ]
  },
  {
   "cell_type": "code",
   "execution_count": 4,
   "metadata": {},
   "outputs": [
    {
     "data": {
      "text/plain": [
       "['MEDICAL BILL 2020.xlsx',\n",
       " 'STAFF_Dependant LIST 2020.xlsx',\n",
       " 'staff_list_trial.xlsx',\n",
       " 'trial1.xlsx']"
      ]
     },
     "execution_count": 4,
     "metadata": {},
     "output_type": "execute_result"
    }
   ],
   "source": [
    "os.listdir()"
   ]
  },
  {
   "cell_type": "code",
   "execution_count": null,
   "metadata": {},
   "outputs": [],
   "source": [
    "Colors = colors.COLOR_INDEX"
   ]
  },
  {
   "cell_type": "code",
   "execution_count": null,
   "metadata": {},
   "outputs": [],
   "source": [
    "# Colors"
   ]
  },
  {
   "cell_type": "code",
   "execution_count": 51,
   "metadata": {},
   "outputs": [
    {
     "data": {
      "text/plain": [
       "['ACCOUNTS M B',\n",
       " 'ADMINISTRATION M B',\n",
       " 'CASUALS M B',\n",
       " 'F&B M B',\n",
       " 'FOREX M B',\n",
       " 'GUESTS M B',\n",
       " 'HOUSE DEPT M B',\n",
       " 'HOUSEKEEPING M B',\n",
       " 'KITCHEN M B',\n",
       " 'LAUNDRY M B',\n",
       " 'MAINTENANCE M B',\n",
       " 'SALES M B',\n",
       " 'SECURITY M B',\n",
       " 'SPA M B',\n",
       " 'STORES M B']"
      ]
     },
     "execution_count": 51,
     "metadata": {},
     "output_type": "execute_result"
    }
   ],
   "source": [
    "wb = openpyxl.load_workbook('MEDICAL BILL 2020.xlsx')\n",
    "wb.sheetnames"
   ]
  },
  {
   "cell_type": "code",
   "execution_count": null,
   "metadata": {
    "scrolled": false
   },
   "outputs": [],
   "source": [
    "# loop for Names and Number of Staff in Staff Names Column\n",
    "\n",
    "wb = openpyxl.load_workbook('trial1.xlsx')\n",
    "sheet = wb['KITCHEN M B']\n",
    "slot_counter = 0\n",
    "\n",
    "for i in range(1,500):\n",
    "    cell = sheet.cell(row=i, column=1)\n",
    "    if cell.fill.start_color.index == 'FFD8D8D8' \\\n",
    "    and cell.font.b == True:                       # check for gray cell and bold font\n",
    "        print(cell.value)\n",
    "        slot_counter += 1\n",
    "        \n",
    "print(f'\\nThere are {slot_counter} slots in {sheet.title}')"
   ]
  },
  {
   "cell_type": "code",
   "execution_count": null,
   "metadata": {},
   "outputs": [],
   "source": []
  },
  {
   "cell_type": "code",
   "execution_count": 95,
   "metadata": {
    "scrolled": true
   },
   "outputs": [
    {
     "name": "stdout",
     "output_type": "stream",
     "text": [
      "Number of Staff minus casuals and guests: 204\n",
      "\n",
      "1 Nana Yaw Ampofo | ACCOUNTS M B\n",
      "2 Douglas Asiedu | ACCOUNTS M B\n",
      "3 Ernest Kaguah | ACCOUNTS M B\n",
      "4 Festus Twumasi Ankrah | ACCOUNTS M B\n",
      "5 Emmanuel Animley | ACCOUNTS M B\n",
      "6 Vincent Kotey | ACCOUNTS M B\n",
      "7 George Brobbey | ACCOUNTS M B\n",
      "8 Dorcas Owusu | ACCOUNTS M B\n",
      "9 William Okyere | ACCOUNTS M B\n",
      "10 Ibrahim Abdallah | ACCOUNTS M B\n",
      "11 Richard Dzidzornu | ACCOUNTS M B\n",
      "12 Alex Odoom | ACCOUNTS M B\n",
      "13 Abigail Armah | ACCOUNTS M B\n",
      "14 Alfred Opoku Agyepong | ACCOUNTS M B\n",
      "15 Richard Tawiah | ACCOUNTS M B\n",
      "16 Atta Osei Buabeng | ACCOUNTS M B\n",
      "17 Rene Vincent-Ernest | ADMINISTRATION M B\n",
      "18 Olivia Tetteh Bimpeh | ADMINISTRATION M B\n",
      "19 Gloria Orleans-Mends | ADMINISTRATION M B\n",
      "20 Abigail Akpene Abutiate | ADMINISTRATION M B\n",
      "21 Priscilla Anang | ADMINISTRATION M B\n",
      "22 Susana Setsoafia | ADMINISTRATION M B\n",
      "23 Kennedy Kidiiga | F&B M B\n",
      "24 Ekua Zara Awonana Ghartey | F&B M B\n",
      "25 Francis Dogbey | F&B M B\n",
      "26 Darryl Oboshi Schandorf | F&B M B\n",
      "27 Linda Pokoo-Aikins | F&B M B\n",
      "28 Mavis Adutwumwaa-Opoku | F&B M B\n",
      "29 Abigail Mensa | F&B M B\n",
      "30 Josephine Ewusie | F&B M B\n",
      "31 Franklin Dowuona | F&B M B\n",
      "32 Daniel Laryea | F&B M B\n",
      "33 Eric Adjetey Adjei | F&B M B\n",
      "34 Abraham Mensah | F&B M B\n",
      "35 Salomey Nortey | F&B M B\n",
      "36 Mercy Beeko | F&B M B\n",
      "37 Rampson Agbenyo | F&B M B\n",
      "38 Hosea Liverpool | F&B M B\n",
      "39 Cecilia Tagoe | F&B M B\n",
      "40 Moses Ashirifie Quashie | F&B M B\n",
      "41 Samuel Obeng Saforo | F&B M B\n",
      "42 Dominic La-Aoni | F&B M B\n",
      "43 Daniel Tetteh | F&B M B\n",
      "44 David Gagakuma | F&B M B\n",
      "45 Samuel Opuni Mensah | F&B M B\n",
      "46 Ishmael Dodoo | F&B M B\n",
      "47 Theodora Allotey | F&B M B\n",
      "48 Michael Kwabena Oppong | F&B M B\n",
      "49 Janet De-Heer | FOREX M B\n",
      "50 Irene Ofori-Teiko | HOUSE DEPT M B\n",
      "51 William Ahinakwah | HOUSE DEPT M B\n",
      "52 Isaac Nii Amon Neequaye | HOUSE DEPT M B\n",
      "53 Perry S. Abrokwah | HOUSE DEPT M B\n",
      "54 Martin Osei Ntim | HOUSE DEPT M B\n",
      "55 Theresa Adzaho Sowah | HOUSE DEPT M B\n",
      "56 Philip Adu-Mensah | HOUSE DEPT M B\n",
      "57 Emmanuel Dartey | HOUSE DEPT M B\n",
      "58 Evelyn Amoah | HOUSE DEPT M B\n",
      "59 Eunice Mensah | HOUSE DEPT M B\n",
      "60 Patricia Agbenowosi | HOUSE DEPT M B\n",
      "61 Victor Buachie Glantey | HOUSE DEPT M B\n",
      "62 Clement Atiadze | HOUSE DEPT M B\n",
      "63 Peter K. Appah | HOUSE DEPT M B\n",
      "64 Bashiru Abdallah | HOUSE DEPT M B\n",
      "65 John Amoah | HOUSE DEPT M B\n",
      "66 Eric Dery Tienuku | HOUSE DEPT M B\n",
      "67 Emmanuel Larbi | HOUSE DEPT M B\n",
      "68 Eunice Kpor | HOUSE DEPT M B\n",
      "69 Gifty Fiadjoe | HOUSE DEPT M B\n",
      "70 Solomon Annang | HOUSE DEPT M B\n",
      "71 Florence Bannor | HOUSE DEPT M B\n",
      "72 Julius Lartey | HOUSE DEPT M B\n",
      "73 Thelma Quayegah | HOUSE DEPT M B\n",
      "74 Esi Bharati Kinnah | HOUSE DEPT M B\n",
      "75 Annabel Asamoah Menyisse | HOUSEKEEPING M B\n",
      "76 Millicent Danquah | HOUSEKEEPING M B\n",
      "77 Mary Nyadu | HOUSEKEEPING M B\n",
      "78 Happy Agbati | HOUSEKEEPING M B\n",
      "79 Grace Afrah | HOUSEKEEPING M B\n",
      "80 Faustina Quarm | HOUSEKEEPING M B\n",
      "81 Doris Agbovi | HOUSEKEEPING M B\n",
      "82 Frances Fynn | HOUSEKEEPING M B\n",
      "83 Lorrinda Quarshie | HOUSEKEEPING M B\n",
      "84 Regina Quaye | HOUSEKEEPING M B\n",
      "85 Joyce Agbemadzi | HOUSEKEEPING M B\n",
      "86 Belinda Kpordjie | HOUSEKEEPING M B\n",
      "87 Salomey Adoley Pappoe | HOUSEKEEPING M B\n",
      "88 Freda Odonkor | HOUSEKEEPING M B\n",
      "89 Caroline Armah | HOUSEKEEPING M B\n",
      "90 Cynthia Ahia | HOUSEKEEPING M B\n",
      "91 Rominus Amoah | HOUSEKEEPING M B\n",
      "92 David Marmah Botchway | HOUSEKEEPING M B\n",
      "93 Isaac Mensah | HOUSEKEEPING M B\n",
      "94 Abraham Donkor | HOUSEKEEPING M B\n",
      "95 Isaac Yaw Mensah | HOUSEKEEPING M B\n",
      "96 Jacob T. Lartey | HOUSEKEEPING M B\n",
      "97 Gary Lane | KITCHEN M B\n",
      "98 Cecilia Kegay | KITCHEN M B\n",
      "99 Christopher Kansis | KITCHEN M B\n",
      "100 Samuel Lamptey Odartey | KITCHEN M B\n",
      "101 Akwetey Ahingwah | KITCHEN M B\n",
      "102 Esther Nsiah | KITCHEN M B\n",
      "103 Charles Momor Tetteh | KITCHEN M B\n",
      "104 George Nyarko | KITCHEN M B\n",
      "105 Christine Agbanu | KITCHEN M B\n",
      "106 Patricia Amarh | KITCHEN M B\n",
      "107 Daniel Amoah | KITCHEN M B\n",
      "108 Faustina Akoi-Larbi | KITCHEN M B\n",
      "109 Angela Megbenu | KITCHEN M B\n",
      "110 Ivy Amoh | KITCHEN M B\n",
      "111 Joana Nyarko | KITCHEN M B\n",
      "112 Mabel Adumang | KITCHEN M B\n",
      "113 Ebenezer Nii Nai Larsey | KITCHEN M B\n",
      "114 Jonathan Coffie | KITCHEN M B\n",
      "115 Caroline Larsey | KITCHEN M B\n",
      "116 Angela Akuffo | KITCHEN M B\n",
      "117 Josephine Asumang | KITCHEN M B\n",
      "118 Mercy Annang Agyepong | KITCHEN M B\n",
      "119 Evelyn Adjetey | KITCHEN M B\n",
      "120 Regina Oblim | KITCHEN M B\n",
      "121 Regina Mensah | KITCHEN M B\n",
      "122 Michael Kodzo-Gbor | KITCHEN M B\n",
      "123 Robert Nketiah Mensah | KITCHEN M B\n",
      "124 Lydia Oninku | KITCHEN M B\n",
      "125 Janet Anim | KITCHEN M B\n",
      "126 Benedicta Larbi | KITCHEN M B\n",
      "127 Richard Tetteh | KITCHEN M B\n",
      "128 Richard Mintah | KITCHEN M B\n",
      "129 Vincent M. Nyawuame | KITCHEN M B\n",
      "130 Prudence Attipoe | KITCHEN M B\n",
      "131 Simon Azumah Martey-Korley | KITCHEN M B\n",
      "132 Isaac Aboagye-Okyere | KITCHEN M B\n",
      "133 Michael Awuah | KITCHEN M B\n",
      "134 Samuel Abeka Gogo | KITCHEN M B\n",
      "135 Cassandra M. Cubagee | KITCHEN M B\n",
      "136 Jessica Jochebed Mante | KITCHEN M B\n",
      "137 Sampson Awumi | KITCHEN M B\n",
      "138 Naomi Ashitey Amarh | KITCHEN M B\n",
      "139 Irene Abaah | KITCHEN M B\n",
      "140 Valentine Aleh | KITCHEN M B\n",
      "141 Charity Comieter | KITCHEN M B\n",
      "142 Joseph Dodoo | LAUNDRY M B\n",
      "143 Solomon Aidoo | LAUNDRY M B\n",
      "144 Emmanuel Aferdi | LAUNDRY M B\n",
      "145 Anthony Senade | LAUNDRY M B\n",
      "146 Samuel Yeboah | LAUNDRY M B\n",
      "147 Ashitey Trebie | LAUNDRY M B\n",
      "148 John Ablorh Anum | LAUNDRY M B\n",
      "149 Isaac Ashie Amon | LAUNDRY M B\n",
      "150 Joseph Martey Laryea | LAUNDRY M B\n",
      "151 Moses Mensah Larsey | LAUNDRY M B\n",
      "152 Killian Afedoh | LAUNDRY M B\n",
      "153 Vinolia Agbezuge | LAUNDRY M B\n",
      "154 Martha Kwatiah | LAUNDRY M B\n",
      "155 Evans Adzaho | MAINTENANCE M B\n",
      "156 Paul Adzaho | MAINTENANCE M B\n",
      "157 Bernard Ahelegbeh | MAINTENANCE M B\n",
      "158 Paul Yevugah | MAINTENANCE M B\n",
      "159 Robert Sowah Nai | MAINTENANCE M B\n",
      "160 Joseph Adjetey Anang | MAINTENANCE M B\n",
      "161 Prosper Assan | MAINTENANCE M B\n",
      "162 Alhaji Abdallah Seidu | MAINTENANCE M B\n",
      "163 Desmond O. Kpokli-Tswasam | MAINTENANCE M B\n",
      "164 Dickson Agbodza | MAINTENANCE M B\n",
      "165 Frank Ashitey | MAINTENANCE M B\n",
      "166 Abraham Ashitey | MAINTENANCE M B\n",
      "167 Emmanuel Martei Korley | MAINTENANCE M B\n",
      "168 Fraser Yao Fiagbadu | MAINTENANCE M B\n",
      "169 Yaw Asamoah | MAINTENANCE M B\n",
      "170 Samuel Lamptey Odatei | MAINTENANCE M B\n",
      "171 Fred Opoku | MAINTENANCE M B\n",
      "172 David Eduaful | SALES M B\n",
      "173 George Ayisi | SALES M B\n",
      "174 Kenneth Apasu | SALES M B\n",
      "175 Patience Aidoo | SALES M B\n",
      "176 Phoebe Odoom | SALES M B\n",
      "177 Vincent Micah | SECURITY M B\n",
      "178 Abdul-Rashid Suleman | SECURITY M B\n",
      "179 James Brown Nkudede | SECURITY M B\n",
      "180 Rockson Duho | SECURITY M B\n",
      "181 Akwasi Yeboah Acheampong | SECURITY M B\n",
      "182 Charles Ofori Yeboah | SECURITY M B\n",
      "183 Ernest Apenteng | SECURITY M B\n",
      "184 Albert Larbi | SECURITY M B\n",
      "185 William Ametepe | SECURITY M B\n",
      "186 Nana Yaw Obuobi | SECURITY M B\n",
      "187 Michael Annang | SECURITY M B\n",
      "188 Richmond Adjetey Adjei | SECURITY M B\n",
      "189 Charles Bosomtwi Dugan | SECURITY M B\n",
      "190 Clifford Elvis Hesse | SECURITY M B\n",
      "191 Paul Katernor | SECURITY M B\n",
      "192 Emmanuel Appiah | SECURITY M B\n",
      "193 Clement Yaw Micah | SECURITY M B\n",
      "194 Abena Antwiwaa Adom | SPA M B\n",
      "195 Dora Annobil | SPA M B\n",
      "196 Catherine Dadzie-Mensah | SPA M B\n",
      "197 Agnes Nai | SPA M B\n",
      "198 Jacqueline Oduro | SPA M B\n",
      "199 Godfred Gyebi | STORES M B\n",
      "200 Emmanuel Asare Sakyi | STORES M B\n",
      "201 Solomon Doku | STORES M B\n",
      "202 Martin Asimeng | STORES M B\n",
      "203 Anani Tsagli | STORES M B\n",
      "204 Nathaniel Yaw Kwofie | STORES M B\n"
     ]
    }
   ],
   "source": [
    "# Loop for Total Number of Staff and Names minus Casuals\n",
    "\n",
    "wb = openpyxl.load_workbook('MEDICAL BILL 2020.xlsx')\n",
    "# print(wb.sheetnames)\n",
    "staff = []\n",
    "\n",
    "for ws in wb.sheetnames:\n",
    "    if 'CASUALS' not in wb[ws].title and 'GUESTS' not in wb[ws].title:\n",
    "#         ic(wb[ws].title)\n",
    "        for col in wb[ws].iter_cols(min_row=1, max_row=700, min_col=1, max_col=1):\n",
    "            for cell in col:\n",
    "                if cell.fill.start_color.index == 'FFD8D8D8' and cell.font.b == True \\\n",
    "                and cell.value != 0:  # check for gray color, bold font, and whether cell is filled (empty cells contain '0')\n",
    "                    staff.append(cell.value.title() + ' | ' + wb[ws].title)\n",
    "            \n",
    "print(f'Number of Staff minus casuals and guests: {len(staff)}\\n')\n",
    "\n",
    "# staff.sort()\n",
    "for c, sf in enumerate(staff):\n",
    "    print(c+1, sf)\n",
    "\n",
    "    \n",
    "staff_med_bills = set()\n",
    "for item in staff:\n",
    "    temp = item.split(' |')\n",
    "    staff_med_bills.add(temp[0])\n",
    "# len(staff_med_bills)\n",
    "# print(staff_med_bills)"
   ]
  },
  {
   "cell_type": "code",
   "execution_count": null,
   "metadata": {},
   "outputs": [],
   "source": []
  },
  {
   "cell_type": "code",
   "execution_count": null,
   "metadata": {},
   "outputs": [],
   "source": [
    "# Loop to fill all empty staff name cells with zero\n",
    "\n",
    "wb = openpyxl.load_workbook('MEDICAL BILL 2020.xlsx')\n",
    "change_counter = 0\n",
    "\n",
    "for ws in wb.sheetnames:\n",
    "    for col in wb[ws].iter_cols(min_row=1, max_row=600, min_col=1, max_col=1):\n",
    "        for cell in col:\n",
    "            if cell.fill.start_color.index == 'FFD8D8D8' \\\n",
    "            and cell.value == None:  # check for gray color and empty cell\n",
    "                cell.value = 0\n",
    "                change_counter += 1\n",
    "\n",
    "print(f'{change_counter} instances changed.')\n",
    "wb.save('trial1.xlsx')"
   ]
  },
  {
   "cell_type": "code",
   "execution_count": null,
   "metadata": {},
   "outputs": [],
   "source": []
  },
  {
   "cell_type": "code",
   "execution_count": null,
   "metadata": {},
   "outputs": [],
   "source": []
  },
  {
   "cell_type": "code",
   "execution_count": null,
   "metadata": {},
   "outputs": [],
   "source": [
    "# Loop to reset all entries to zero [FOR NEW MED BILLS FILE]\n",
    "\n",
    "wb = openpyxl.load_workbook('MEDICAL BILL 2020.xlsx')\n",
    "\n",
    "for ws in wb.sheetnames:\n",
    "    for rows in wb[ws].iter_rows(min_row=4, max_row=600, min_col=3, max_col=14):  # iterating through amount cells\n",
    "        for cells in rows:\n",
    "            if cells.fill.start_color.index == 'FFD99594' \\\n",
    "            and cells.font.b == False:  # check for red colour and no bold font\n",
    "                cells.value = 0\n",
    "    print(f'Done reseting all values in {wb[ws].title}')\n",
    "wb.save('fresh med bills.xlsx')\n",
    "print('New spreadsheet saved!')"
   ]
  },
  {
   "cell_type": "code",
   "execution_count": null,
   "metadata": {},
   "outputs": [],
   "source": []
  },
  {
   "cell_type": "code",
   "execution_count": null,
   "metadata": {},
   "outputs": [],
   "source": [
    "wb = openpyxl.load_workbook('trial1.xlsx')\n",
    "ws = wb['ACCOUNTS M B']"
   ]
  },
  {
   "cell_type": "code",
   "execution_count": null,
   "metadata": {},
   "outputs": [],
   "source": [
    "print(type(ws['I14'].value))\n",
    "print(ws['I14'].value)"
   ]
  },
  {
   "cell_type": "code",
   "execution_count": null,
   "metadata": {},
   "outputs": [],
   "source": [
    "print(type(ws['I4'].value))\n",
    "print(ws['I4'].value)  # ZEROS IN WORKSHEETS ARE integers"
   ]
  },
  {
   "cell_type": "code",
   "execution_count": null,
   "metadata": {},
   "outputs": [],
   "source": []
  },
  {
   "cell_type": "markdown",
   "metadata": {},
   "source": [
    "<hr>"
   ]
  },
  {
   "cell_type": "markdown",
   "metadata": {},
   "source": [
    "<h1>STAFF LIST</h1>"
   ]
  },
  {
   "cell_type": "code",
   "execution_count": null,
   "metadata": {},
   "outputs": [],
   "source": [
    "# TODO: Cross check MED BILLS names with Staff List exempting Casual Department"
   ]
  },
  {
   "cell_type": "code",
   "execution_count": 96,
   "metadata": {
    "scrolled": true
   },
   "outputs": [
    {
     "name": "stdout",
     "output_type": "stream",
     "text": [
      "Number of staff in Staff List: 204\n",
      "\n"
     ]
    }
   ],
   "source": [
    "# Extracting all staff names from Staff List\n",
    "\n",
    "wb = openpyxl.load_workbook('STAFF_Dependant LIST 2020.xlsx')\n",
    "sheet = wb['2020 STAFF LIST']\n",
    "staff_list = []\n",
    "\n",
    "for col in sheet.iter_cols(min_row=1, max_row=1000, min_col=1, max_col=1):\n",
    "    for cell in col:\n",
    "        if cell.value != None and cell.font.b is True and cell.font.i is False:\n",
    "#             print(cell.value.title())\n",
    "            staff_list.append(cell.value.title())\n",
    "\n",
    "print(f'Number of staff in Staff List: {len(staff_list)}\\n')\n",
    "\n",
    "staff_from_stafflist = set()\n",
    "for c, item in enumerate(staff_list):\n",
    "    staff_from_stafflist.add(item)\n",
    "#     print(c+1, item)\n",
    "\n",
    "# print(len(staff_from_stafflist))\n"
   ]
  },
  {
   "cell_type": "code",
   "execution_count": 97,
   "metadata": {
    "scrolled": true
   },
   "outputs": [
    {
     "name": "stdout",
     "output_type": "stream",
     "text": [
      "Number of Permanent Staff in medical bills but not in Staff List: 0\n",
      "\n"
     ]
    }
   ],
   "source": [
    "diff = list(staff_med_bills.symmetric_difference(staff_from_stafflist))\n",
    "print('Number of Permanent Staff in medical bills but not in Staff List: ' + str(len(diff))+'\\n')\n",
    "\n",
    "diff.sort()\n",
    "for item in diff:\n",
    "    print(item.title())"
   ]
  },
  {
   "cell_type": "code",
   "execution_count": null,
   "metadata": {},
   "outputs": [],
   "source": []
  }
 ],
 "metadata": {
  "kernelspec": {
   "display_name": "Python 3",
   "language": "python",
   "name": "python3"
  },
  "language_info": {
   "codemirror_mode": {
    "name": "ipython",
    "version": 3
   },
   "file_extension": ".py",
   "mimetype": "text/x-python",
   "name": "python",
   "nbconvert_exporter": "python",
   "pygments_lexer": "ipython3",
   "version": "3.8.3"
  }
 },
 "nbformat": 4,
 "nbformat_minor": 4
}
